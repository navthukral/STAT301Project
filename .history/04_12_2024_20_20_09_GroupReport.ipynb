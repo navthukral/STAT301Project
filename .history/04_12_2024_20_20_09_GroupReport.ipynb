{
 "cells": [
  {
   "cell_type": "markdown",
   "id": "8e479889-a32f-454a-91e3-26f93524a76a",
   "metadata": {},
   "source": [
    "# Modelling and Predicting Employee Attrition #"
   ]
  },
  {
   "cell_type": "code",
   "execution_count": 128,
   "id": "8e51a462-8084-4b82-b3f3-5d991d57c368",
   "metadata": {},
   "outputs": [
    {
     "name": "stderr",
     "output_type": "stream",
     "text": [
      "Updating HTML index of packages in '.Library'\n",
      "\n",
      "Making 'packages.html' ...\n",
      " done\n",
      "\n"
     ]
    }
   ],
   "source": [
    "library(tidyverse)\n",
    "library(broom)\n",
    "library(GGally)\n",
    "library(car)\n",
    "library(glmnet)\n",
    "library(caret)\n",
    "library(repr)\n",
    "library(infer)\n",
    "library(gridExtra)\n",
    "library(pROC)\n",
    "library(boot)\n",
    "install.packages(\"ROSE\")\n",
    "options(warn = -1)"
   ]
  },
  {
   "cell_type": "markdown",
   "id": "515adb7b-4c30-4bcc-9492-df8c1011923d",
   "metadata": {},
   "source": [
    "## STAT 301: Planning Stage\n",
    "\n",
    "#### Names: Justin Bourdon, Nour Abdelfattah\n",
    "\n",
    "#### Student Numbers: 13755392, 97158414"
   ]
  },
  {
   "cell_type": "markdown",
   "id": "99c3f3b7-3ecc-4112-a4be-c62e980f944f",
   "metadata": {},
   "source": [
    "## Introduction"
   ]
  },
  {
   "cell_type": "code",
   "execution_count": 153,
   "id": "ba01638c-0aa0-474c-811d-2026cda98cbc",
   "metadata": {},
   "outputs": [
    {
     "name": "stderr",
     "output_type": "stream",
     "text": [
      "\u001b[1mRows: \u001b[22m\u001b[34m1470\u001b[39m \u001b[1mColumns: \u001b[22m\u001b[34m35\u001b[39m\n",
      "\u001b[36m──\u001b[39m \u001b[1mColumn specification\u001b[22m \u001b[36m────────────────────────────────────────────────────────\u001b[39m\n",
      "\u001b[1mDelimiter:\u001b[22m \",\"\n",
      "\u001b[31mchr\u001b[39m  (9): Attrition, BusinessTravel, Department, EducationField, Gender, Job...\n",
      "\u001b[32mdbl\u001b[39m (26): Age, DailyRate, DistanceFromHome, Education, EmployeeCount, Employ...\n",
      "\n",
      "\u001b[36mℹ\u001b[39m Use `spec()` to retrieve the full column specification for this data.\n",
      "\u001b[36mℹ\u001b[39m Specify the column types or set `show_col_types = FALSE` to quiet this message.\n"
     ]
    },
    {
     "data": {
      "text/html": [
       "<table class=\"dataframe\">\n",
       "<caption>A tibble: 6 × 35</caption>\n",
       "<thead>\n",
       "\t<tr><th scope=col>Age</th><th scope=col>Attrition</th><th scope=col>BusinessTravel</th><th scope=col>DailyRate</th><th scope=col>Department</th><th scope=col>DistanceFromHome</th><th scope=col>Education</th><th scope=col>EducationField</th><th scope=col>EmployeeCount</th><th scope=col>EmployeeNumber</th><th scope=col>⋯</th><th scope=col>RelationshipSatisfaction</th><th scope=col>StandardHours</th><th scope=col>StockOptionLevel</th><th scope=col>TotalWorkingYears</th><th scope=col>TrainingTimesLastYear</th><th scope=col>WorkLifeBalance</th><th scope=col>YearsAtCompany</th><th scope=col>YearsInCurrentRole</th><th scope=col>YearsSinceLastPromotion</th><th scope=col>YearsWithCurrManager</th></tr>\n",
       "\t<tr><th scope=col>&lt;dbl&gt;</th><th scope=col>&lt;chr&gt;</th><th scope=col>&lt;chr&gt;</th><th scope=col>&lt;dbl&gt;</th><th scope=col>&lt;chr&gt;</th><th scope=col>&lt;dbl&gt;</th><th scope=col>&lt;dbl&gt;</th><th scope=col>&lt;chr&gt;</th><th scope=col>&lt;dbl&gt;</th><th scope=col>&lt;dbl&gt;</th><th scope=col>⋯</th><th scope=col>&lt;dbl&gt;</th><th scope=col>&lt;dbl&gt;</th><th scope=col>&lt;dbl&gt;</th><th scope=col>&lt;dbl&gt;</th><th scope=col>&lt;dbl&gt;</th><th scope=col>&lt;dbl&gt;</th><th scope=col>&lt;dbl&gt;</th><th scope=col>&lt;dbl&gt;</th><th scope=col>&lt;dbl&gt;</th><th scope=col>&lt;dbl&gt;</th></tr>\n",
       "</thead>\n",
       "<tbody>\n",
       "\t<tr><td>41</td><td>Yes</td><td>Travel_Rarely    </td><td>1102</td><td>Sales                 </td><td>1</td><td>2</td><td>Life Sciences</td><td>1</td><td>1</td><td>⋯</td><td>1</td><td>80</td><td>0</td><td> 8</td><td>0</td><td>1</td><td> 6</td><td>4</td><td>0</td><td>5</td></tr>\n",
       "\t<tr><td>49</td><td>No </td><td>Travel_Frequently</td><td> 279</td><td>Research &amp; Development</td><td>8</td><td>1</td><td>Life Sciences</td><td>1</td><td>2</td><td>⋯</td><td>4</td><td>80</td><td>1</td><td>10</td><td>3</td><td>3</td><td>10</td><td>7</td><td>1</td><td>7</td></tr>\n",
       "\t<tr><td>37</td><td>Yes</td><td><span style=white-space:pre-wrap>Travel_Rarely    </span></td><td>1373</td><td>Research &amp; Development</td><td>2</td><td>2</td><td><span style=white-space:pre-wrap>Other        </span></td><td>1</td><td>4</td><td>⋯</td><td>2</td><td>80</td><td>0</td><td> 7</td><td>3</td><td>3</td><td> 0</td><td>0</td><td>0</td><td>0</td></tr>\n",
       "\t<tr><td>33</td><td>No </td><td>Travel_Frequently</td><td>1392</td><td>Research &amp; Development</td><td>3</td><td>4</td><td>Life Sciences</td><td>1</td><td>5</td><td>⋯</td><td>3</td><td>80</td><td>0</td><td> 8</td><td>3</td><td>3</td><td> 8</td><td>7</td><td>3</td><td>0</td></tr>\n",
       "\t<tr><td>27</td><td>No </td><td><span style=white-space:pre-wrap>Travel_Rarely    </span></td><td> 591</td><td>Research &amp; Development</td><td>2</td><td>1</td><td><span style=white-space:pre-wrap>Medical      </span></td><td>1</td><td>7</td><td>⋯</td><td>4</td><td>80</td><td>1</td><td> 6</td><td>3</td><td>3</td><td> 2</td><td>2</td><td>2</td><td>2</td></tr>\n",
       "\t<tr><td>32</td><td>No </td><td>Travel_Frequently</td><td>1005</td><td>Research &amp; Development</td><td>2</td><td>2</td><td>Life Sciences</td><td>1</td><td>8</td><td>⋯</td><td>3</td><td>80</td><td>0</td><td> 8</td><td>2</td><td>2</td><td> 7</td><td>7</td><td>3</td><td>6</td></tr>\n",
       "</tbody>\n",
       "</table>\n"
      ],
      "text/latex": [
       "A tibble: 6 × 35\n",
       "\\begin{tabular}{lllllllllllllllllllll}\n",
       " Age & Attrition & BusinessTravel & DailyRate & Department & DistanceFromHome & Education & EducationField & EmployeeCount & EmployeeNumber & ⋯ & RelationshipSatisfaction & StandardHours & StockOptionLevel & TotalWorkingYears & TrainingTimesLastYear & WorkLifeBalance & YearsAtCompany & YearsInCurrentRole & YearsSinceLastPromotion & YearsWithCurrManager\\\\\n",
       " <dbl> & <chr> & <chr> & <dbl> & <chr> & <dbl> & <dbl> & <chr> & <dbl> & <dbl> & ⋯ & <dbl> & <dbl> & <dbl> & <dbl> & <dbl> & <dbl> & <dbl> & <dbl> & <dbl> & <dbl>\\\\\n",
       "\\hline\n",
       "\t 41 & Yes & Travel\\_Rarely     & 1102 & Sales                  & 1 & 2 & Life Sciences & 1 & 1 & ⋯ & 1 & 80 & 0 &  8 & 0 & 1 &  6 & 4 & 0 & 5\\\\\n",
       "\t 49 & No  & Travel\\_Frequently &  279 & Research \\& Development & 8 & 1 & Life Sciences & 1 & 2 & ⋯ & 4 & 80 & 1 & 10 & 3 & 3 & 10 & 7 & 1 & 7\\\\\n",
       "\t 37 & Yes & Travel\\_Rarely     & 1373 & Research \\& Development & 2 & 2 & Other         & 1 & 4 & ⋯ & 2 & 80 & 0 &  7 & 3 & 3 &  0 & 0 & 0 & 0\\\\\n",
       "\t 33 & No  & Travel\\_Frequently & 1392 & Research \\& Development & 3 & 4 & Life Sciences & 1 & 5 & ⋯ & 3 & 80 & 0 &  8 & 3 & 3 &  8 & 7 & 3 & 0\\\\\n",
       "\t 27 & No  & Travel\\_Rarely     &  591 & Research \\& Development & 2 & 1 & Medical       & 1 & 7 & ⋯ & 4 & 80 & 1 &  6 & 3 & 3 &  2 & 2 & 2 & 2\\\\\n",
       "\t 32 & No  & Travel\\_Frequently & 1005 & Research \\& Development & 2 & 2 & Life Sciences & 1 & 8 & ⋯ & 3 & 80 & 0 &  8 & 2 & 2 &  7 & 7 & 3 & 6\\\\\n",
       "\\end{tabular}\n"
      ],
      "text/markdown": [
       "\n",
       "A tibble: 6 × 35\n",
       "\n",
       "| Age &lt;dbl&gt; | Attrition &lt;chr&gt; | BusinessTravel &lt;chr&gt; | DailyRate &lt;dbl&gt; | Department &lt;chr&gt; | DistanceFromHome &lt;dbl&gt; | Education &lt;dbl&gt; | EducationField &lt;chr&gt; | EmployeeCount &lt;dbl&gt; | EmployeeNumber &lt;dbl&gt; | ⋯ ⋯ | RelationshipSatisfaction &lt;dbl&gt; | StandardHours &lt;dbl&gt; | StockOptionLevel &lt;dbl&gt; | TotalWorkingYears &lt;dbl&gt; | TrainingTimesLastYear &lt;dbl&gt; | WorkLifeBalance &lt;dbl&gt; | YearsAtCompany &lt;dbl&gt; | YearsInCurrentRole &lt;dbl&gt; | YearsSinceLastPromotion &lt;dbl&gt; | YearsWithCurrManager &lt;dbl&gt; |\n",
       "|---|---|---|---|---|---|---|---|---|---|---|---|---|---|---|---|---|---|---|---|---|\n",
       "| 41 | Yes | Travel_Rarely     | 1102 | Sales                  | 1 | 2 | Life Sciences | 1 | 1 | ⋯ | 1 | 80 | 0 |  8 | 0 | 1 |  6 | 4 | 0 | 5 |\n",
       "| 49 | No  | Travel_Frequently |  279 | Research &amp; Development | 8 | 1 | Life Sciences | 1 | 2 | ⋯ | 4 | 80 | 1 | 10 | 3 | 3 | 10 | 7 | 1 | 7 |\n",
       "| 37 | Yes | Travel_Rarely     | 1373 | Research &amp; Development | 2 | 2 | Other         | 1 | 4 | ⋯ | 2 | 80 | 0 |  7 | 3 | 3 |  0 | 0 | 0 | 0 |\n",
       "| 33 | No  | Travel_Frequently | 1392 | Research &amp; Development | 3 | 4 | Life Sciences | 1 | 5 | ⋯ | 3 | 80 | 0 |  8 | 3 | 3 |  8 | 7 | 3 | 0 |\n",
       "| 27 | No  | Travel_Rarely     |  591 | Research &amp; Development | 2 | 1 | Medical       | 1 | 7 | ⋯ | 4 | 80 | 1 |  6 | 3 | 3 |  2 | 2 | 2 | 2 |\n",
       "| 32 | No  | Travel_Frequently | 1005 | Research &amp; Development | 2 | 2 | Life Sciences | 1 | 8 | ⋯ | 3 | 80 | 0 |  8 | 2 | 2 |  7 | 7 | 3 | 6 |\n",
       "\n"
      ],
      "text/plain": [
       "  Age Attrition BusinessTravel    DailyRate Department            \n",
       "1 41  Yes       Travel_Rarely     1102      Sales                 \n",
       "2 49  No        Travel_Frequently  279      Research & Development\n",
       "3 37  Yes       Travel_Rarely     1373      Research & Development\n",
       "4 33  No        Travel_Frequently 1392      Research & Development\n",
       "5 27  No        Travel_Rarely      591      Research & Development\n",
       "6 32  No        Travel_Frequently 1005      Research & Development\n",
       "  DistanceFromHome Education EducationField EmployeeCount EmployeeNumber ⋯\n",
       "1 1                2         Life Sciences  1             1              ⋯\n",
       "2 8                1         Life Sciences  1             2              ⋯\n",
       "3 2                2         Other          1             4              ⋯\n",
       "4 3                4         Life Sciences  1             5              ⋯\n",
       "5 2                1         Medical        1             7              ⋯\n",
       "6 2                2         Life Sciences  1             8              ⋯\n",
       "  RelationshipSatisfaction StandardHours StockOptionLevel TotalWorkingYears\n",
       "1 1                        80            0                 8               \n",
       "2 4                        80            1                10               \n",
       "3 2                        80            0                 7               \n",
       "4 3                        80            0                 8               \n",
       "5 4                        80            1                 6               \n",
       "6 3                        80            0                 8               \n",
       "  TrainingTimesLastYear WorkLifeBalance YearsAtCompany YearsInCurrentRole\n",
       "1 0                     1                6             4                 \n",
       "2 3                     3               10             7                 \n",
       "3 3                     3                0             0                 \n",
       "4 3                     3                8             7                 \n",
       "5 3                     3                2             2                 \n",
       "6 2                     2                7             7                 \n",
       "  YearsSinceLastPromotion YearsWithCurrManager\n",
       "1 0                       5                   \n",
       "2 1                       7                   \n",
       "3 0                       0                   \n",
       "4 3                       0                   \n",
       "5 2                       2                   \n",
       "6 3                       6                   "
      ]
     },
     "metadata": {},
     "output_type": "display_data"
    }
   ],
   "source": [
    "# Download latest version\n",
    "path = \"HR-Employee-Attrition 2.csv\"\n",
    "\n",
    "attrition_data=read_csv(path)\n",
    "\n",
    "head(attrition_data)"
   ]
  },
  {
   "cell_type": "markdown",
   "id": "fc9815d5-136e-49b6-a6ab-9ffebc7206cc",
   "metadata": {},
   "source": [
    "## Methods and Results ## "
   ]
  },
  {
   "cell_type": "markdown",
   "id": "fe96127e-0e11-47e3-ac09-6d0e42d15a6e",
   "metadata": {},
   "source": [
    "### 1) EDA ###"
   ]
  },
  {
   "cell_type": "markdown",
   "id": "26277520-15f9-4bf2-bfdd-f3b13b0a5e0f",
   "metadata": {},
   "source": [
    "### 2) Methods: Plan ###"
   ]
  },
  {
   "cell_type": "code",
   "execution_count": 154,
   "id": "fd9d93de-f77b-4091-904f-269693188914",
   "metadata": {},
   "outputs": [],
   "source": [
    "#Using Forward Selection\n",
    "#remove irrelevant variables\n",
    "\n",
    "attrition_data <- attrition_data %>%\n",
    "  # Remove specified columns\n",
    "  select(-EmployeeCount, -EmployeeNumber, -Over18, -StandardHours, \n",
    "         -MaritalStatus, -JobRole, -EducationField, -Department, -BusinessTravel) %>%\n",
    "  \n",
    "  # Convert binary categorical variables into numeric (0/1)\n",
    "  mutate(\n",
    "    Attrition = ifelse(Attrition == \"Yes\", 1, 0),\n",
    "    OverTime = ifelse(OverTime == \"Y\", 1, 0),\n",
    "    Gender = ifelse(Gender == \"Male\", 1, 0)\n",
    "  )\n"
   ]
  },
  {
   "cell_type": "code",
   "execution_count": 155,
   "id": "64734487-1df9-4af4-93a8-5073ce2a02c4",
   "metadata": {},
   "outputs": [
    {
     "name": "stdout",
     "output_type": "stream",
     "text": [
      "tibble [1,470 × 26] (S3: tbl_df/tbl/data.frame)\n",
      " $ Age                     : num [1:1470] 41 49 37 33 27 32 59 30 38 36 ...\n",
      " $ Attrition               : num [1:1470] 1 0 1 0 0 0 0 0 0 0 ...\n",
      " $ DailyRate               : num [1:1470] 1102 279 1373 1392 591 ...\n",
      " $ DistanceFromHome        : num [1:1470] 1 8 2 3 2 2 3 24 23 27 ...\n",
      " $ Education               : num [1:1470] 2 1 2 4 1 2 3 1 3 3 ...\n",
      " $ EnvironmentSatisfaction : num [1:1470] 2 3 4 4 1 4 3 4 4 3 ...\n",
      " $ Gender                  : num [1:1470] 0 1 1 0 1 1 0 1 1 1 ...\n",
      " $ HourlyRate              : num [1:1470] 94 61 92 56 40 79 81 67 44 94 ...\n",
      " $ JobInvolvement          : num [1:1470] 3 2 2 3 3 3 4 3 2 3 ...\n",
      " $ JobLevel                : num [1:1470] 2 2 1 1 1 1 1 1 3 2 ...\n",
      " $ JobSatisfaction         : num [1:1470] 4 2 3 3 2 4 1 3 3 3 ...\n",
      " $ MonthlyIncome           : num [1:1470] 5993 5130 2090 2909 3468 ...\n",
      " $ MonthlyRate             : num [1:1470] 19479 24907 2396 23159 16632 ...\n",
      " $ NumCompaniesWorked      : num [1:1470] 8 1 6 1 9 0 4 1 0 6 ...\n",
      " $ OverTime                : num [1:1470] 0 0 0 0 0 0 0 0 0 0 ...\n",
      " $ PercentSalaryHike       : num [1:1470] 11 23 15 11 12 13 20 22 21 13 ...\n",
      " $ PerformanceRating       : num [1:1470] 3 4 3 3 3 3 4 4 4 3 ...\n",
      " $ RelationshipSatisfaction: num [1:1470] 1 4 2 3 4 3 1 2 2 2 ...\n",
      " $ StockOptionLevel        : num [1:1470] 0 1 0 0 1 0 3 1 0 2 ...\n",
      " $ TotalWorkingYears       : num [1:1470] 8 10 7 8 6 8 12 1 10 17 ...\n",
      " $ TrainingTimesLastYear   : num [1:1470] 0 3 3 3 3 2 3 2 2 3 ...\n",
      " $ WorkLifeBalance         : num [1:1470] 1 3 3 3 3 2 2 3 3 2 ...\n",
      " $ YearsAtCompany          : num [1:1470] 6 10 0 8 2 7 1 1 9 7 ...\n",
      " $ YearsInCurrentRole      : num [1:1470] 4 7 0 7 2 7 0 0 7 7 ...\n",
      " $ YearsSinceLastPromotion : num [1:1470] 0 1 0 3 2 3 0 0 1 7 ...\n",
      " $ YearsWithCurrManager    : num [1:1470] 5 7 0 0 2 6 0 0 8 7 ...\n"
     ]
    }
   ],
   "source": [
    "str(attrition_data)"
   ]
  },
  {
   "cell_type": "code",
   "execution_count": 156,
   "id": "9a62b2d5-3cbf-4f08-906e-a91afa0a6a52",
   "metadata": {},
   "outputs": [
    {
     "name": "stdout",
     "output_type": "stream",
     "text": [
      "Training Set Class Distribution:\n",
      "\n",
      "  0   1 \n",
      "744 138 \n",
      "\n",
      "Selection Set Class Distribution:\n",
      "\n",
      "  0   1 \n",
      "237  57 \n",
      "\n",
      "Test Set Class Distribution:\n",
      "\n",
      "  0   1 \n",
      "252  42 \n"
     ]
    }
   ],
   "source": [
    "#split into training, testing and selection \n",
    "\n",
    "set.seed(123)\n",
    "\n",
    "# Step 1: Add an ID column for reproducibility\n",
    "attrition_data <- attrition_data %>%\n",
    "  mutate(ID = row_number())\n",
    "\n",
    "# Step 2: Split the data into training, selection, and test sets\n",
    "attrition_data_train <- attrition_data %>%\n",
    "  slice_sample(prop = 0.60)\n",
    "\n",
    "remaining_data <- attrition_data %>%\n",
    "  anti_join(attrition_data_train, by = \"ID\")\n",
    "\n",
    "attrition_data_selection <- remaining_data %>%\n",
    "  slice_sample(prop = 0.50)\n",
    "\n",
    "attrition_data_test <- remaining_data %>%\n",
    "  anti_join(attrition_data_selection, by = \"ID\")\n",
    "\n",
    "# Step 3: Remove the ID column before modeling\n",
    "attrition_data_train <- attrition_data_train %>% select(-ID)\n",
    "attrition_data_selection <- attrition_data_selection %>% select(-ID)\n",
    "attrition_data_test <- attrition_data_test %>% select(-ID)\n",
    "\n",
    "# Verify the splits\n",
    "cat(\"Training Set Class Distribution:\\n\")\n",
    "print(table(attrition_data_train$Attrition))\n",
    "\n",
    "cat(\"\\nSelection Set Class Distribution:\\n\")\n",
    "print(table(attrition_data_selection$Attrition))\n",
    "\n",
    "cat(\"\\nTest Set Class Distribution:\\n\")\n",
    "print(table(attrition_data_test$Attrition))\n"
   ]
  },
  {
   "cell_type": "code",
   "execution_count": 157,
   "id": "d696dc3c-1507-45b3-bb10-0bc1277f50e2",
   "metadata": {},
   "outputs": [],
   "source": [
    "# problematic_vars <- attrition_data_selection %>%\n",
    "#   summarise(across(where(is.factor), ~ n_distinct(.))) %>%\n",
    "#   gather(variable, n_levels) %>%\n",
    "#   filter(n_levels < 2)\n",
    "\n",
    "# print(problematic_vars)"
   ]
  },
  {
   "cell_type": "code",
   "execution_count": 158,
   "id": "42535b20-88d1-4050-a14e-95419c0b9d80",
   "metadata": {},
   "outputs": [],
   "source": [
    "# constant_vars <- attrition_data_selection %>%\n",
    "#   summarise(across(everything(), ~ n_distinct(.))) %>%\n",
    "#   gather(variable, n_unique) %>%\n",
    "#   filter(n_unique == 1)\n",
    "\n",
    "# print(constant_vars)"
   ]
  },
  {
   "cell_type": "code",
   "execution_count": 161,
   "id": "b100fa72-915f-472a-ba6b-5d772480c7c2",
   "metadata": {},
   "outputs": [
    {
     "name": "stdout",
     "output_type": "stream",
     "text": [
      "Reordering variables and trying again:\n"
     ]
    },
    {
     "data": {
      "text/plain": [
       "Subset selection object\n",
       "Call: regsubsets.formula(x = Attrition ~ ., nvmax = 26, data = attrition_data_selection, \n",
       "    method = \"backward\", )\n",
       "25 Variables  (and intercept)\n",
       "                         Forced in Forced out\n",
       "Age                          FALSE      FALSE\n",
       "DailyRate                    FALSE      FALSE\n",
       "DistanceFromHome             FALSE      FALSE\n",
       "Education                    FALSE      FALSE\n",
       "EnvironmentSatisfaction      FALSE      FALSE\n",
       "Gender                       FALSE      FALSE\n",
       "HourlyRate                   FALSE      FALSE\n",
       "JobInvolvement               FALSE      FALSE\n",
       "JobLevel                     FALSE      FALSE\n",
       "JobSatisfaction              FALSE      FALSE\n",
       "MonthlyIncome                FALSE      FALSE\n",
       "MonthlyRate                  FALSE      FALSE\n",
       "NumCompaniesWorked           FALSE      FALSE\n",
       "PercentSalaryHike            FALSE      FALSE\n",
       "PerformanceRating            FALSE      FALSE\n",
       "RelationshipSatisfaction     FALSE      FALSE\n",
       "StockOptionLevel             FALSE      FALSE\n",
       "TotalWorkingYears            FALSE      FALSE\n",
       "TrainingTimesLastYear        FALSE      FALSE\n",
       "WorkLifeBalance              FALSE      FALSE\n",
       "YearsAtCompany               FALSE      FALSE\n",
       "YearsInCurrentRole           FALSE      FALSE\n",
       "YearsSinceLastPromotion      FALSE      FALSE\n",
       "YearsWithCurrManager         FALSE      FALSE\n",
       "OverTime                     FALSE      FALSE\n",
       "1 subsets of each size up to 24\n",
       "Selection Algorithm: backward"
      ]
     },
     "metadata": {},
     "output_type": "display_data"
    },
    {
     "data": {
      "text/html": [
       "<table class=\"dataframe\">\n",
       "<caption>A tibble: 24 × 4</caption>\n",
       "<thead>\n",
       "\t<tr><th scope=col>n_input_variables</th><th scope=col>RSQ</th><th scope=col>RSS</th><th scope=col>ADJ.R2</th></tr>\n",
       "\t<tr><th scope=col>&lt;int&gt;</th><th scope=col>&lt;dbl&gt;</th><th scope=col>&lt;dbl&gt;</th><th scope=col>&lt;dbl&gt;</th></tr>\n",
       "</thead>\n",
       "<tbody>\n",
       "\t<tr><td> 1</td><td>0.06108640</td><td>43.14212</td><td>0.05787095</td></tr>\n",
       "\t<tr><td> 2</td><td>0.09659351</td><td>41.51061</td><td>0.09038453</td></tr>\n",
       "\t<tr><td> 3</td><td>0.13258815</td><td>39.85669</td><td>0.12361493</td></tr>\n",
       "\t<tr><td> 4</td><td>0.16043190</td><td>38.57730</td><td>0.14881158</td></tr>\n",
       "\t<tr><td> 5</td><td>0.17490806</td><td>37.91213</td><td>0.16058355</td></tr>\n",
       "\t<tr><td> 6</td><td>0.19187091</td><td>37.13271</td><td>0.17497622</td></tr>\n",
       "\t<tr><td> 7</td><td>0.20259849</td><td>36.63979</td><td>0.18308166</td></tr>\n",
       "\t<tr><td> 8</td><td>0.21136067</td><td>36.23717</td><td>0.18922342</td></tr>\n",
       "\t<tr><td> 9</td><td>0.21794692</td><td>35.93454</td><td>0.19316355</td></tr>\n",
       "\t<tr><td>10</td><td>0.22232155</td><td>35.73353</td><td>0.19484174</td></tr>\n",
       "\t<tr><td>11</td><td>0.22393830</td><td>35.65924</td><td>0.19366639</td></tr>\n",
       "\t<tr><td>12</td><td>0.22794249</td><td>35.47525</td><td>0.19497207</td></tr>\n",
       "\t<tr><td>13</td><td>0.23166274</td><td>35.30431</td><td>0.19598994</td></tr>\n",
       "\t<tr><td>14</td><td>0.23514871</td><td>35.14414</td><td>0.19676908</td></tr>\n",
       "\t<tr><td>15</td><td>0.23786416</td><td>35.01936</td><td>0.19674173</td></tr>\n",
       "\t<tr><td>16</td><td>0.23898248</td><td>34.96798</td><td>0.19502479</td></tr>\n",
       "\t<tr><td>17</td><td>0.24009534</td><td>34.91684</td><td>0.19328962</td></tr>\n",
       "\t<tr><td>18</td><td>0.24094076</td><td>34.87800</td><td>0.19125688</td></tr>\n",
       "\t<tr><td>19</td><td>0.24193144</td><td>34.83248</td><td>0.18936464</td></tr>\n",
       "\t<tr><td>20</td><td>0.24202857</td><td>34.82801</td><td>0.18649953</td></tr>\n",
       "\t<tr><td>21</td><td>0.24239867</td><td>34.81101</td><td>0.18390739</td></tr>\n",
       "\t<tr><td>22</td><td>0.24260359</td><td>34.80159</td><td>0.18111753</td></tr>\n",
       "\t<tr><td>23</td><td>0.24272260</td><td>34.79612</td><td>0.17821378</td></tr>\n",
       "\t<tr><td>24</td><td>0.24272284</td><td>34.79611</td><td>0.17515908</td></tr>\n",
       "</tbody>\n",
       "</table>\n"
      ],
      "text/latex": [
       "A tibble: 24 × 4\n",
       "\\begin{tabular}{llll}\n",
       " n\\_input\\_variables & RSQ & RSS & ADJ.R2\\\\\n",
       " <int> & <dbl> & <dbl> & <dbl>\\\\\n",
       "\\hline\n",
       "\t  1 & 0.06108640 & 43.14212 & 0.05787095\\\\\n",
       "\t  2 & 0.09659351 & 41.51061 & 0.09038453\\\\\n",
       "\t  3 & 0.13258815 & 39.85669 & 0.12361493\\\\\n",
       "\t  4 & 0.16043190 & 38.57730 & 0.14881158\\\\\n",
       "\t  5 & 0.17490806 & 37.91213 & 0.16058355\\\\\n",
       "\t  6 & 0.19187091 & 37.13271 & 0.17497622\\\\\n",
       "\t  7 & 0.20259849 & 36.63979 & 0.18308166\\\\\n",
       "\t  8 & 0.21136067 & 36.23717 & 0.18922342\\\\\n",
       "\t  9 & 0.21794692 & 35.93454 & 0.19316355\\\\\n",
       "\t 10 & 0.22232155 & 35.73353 & 0.19484174\\\\\n",
       "\t 11 & 0.22393830 & 35.65924 & 0.19366639\\\\\n",
       "\t 12 & 0.22794249 & 35.47525 & 0.19497207\\\\\n",
       "\t 13 & 0.23166274 & 35.30431 & 0.19598994\\\\\n",
       "\t 14 & 0.23514871 & 35.14414 & 0.19676908\\\\\n",
       "\t 15 & 0.23786416 & 35.01936 & 0.19674173\\\\\n",
       "\t 16 & 0.23898248 & 34.96798 & 0.19502479\\\\\n",
       "\t 17 & 0.24009534 & 34.91684 & 0.19328962\\\\\n",
       "\t 18 & 0.24094076 & 34.87800 & 0.19125688\\\\\n",
       "\t 19 & 0.24193144 & 34.83248 & 0.18936464\\\\\n",
       "\t 20 & 0.24202857 & 34.82801 & 0.18649953\\\\\n",
       "\t 21 & 0.24239867 & 34.81101 & 0.18390739\\\\\n",
       "\t 22 & 0.24260359 & 34.80159 & 0.18111753\\\\\n",
       "\t 23 & 0.24272260 & 34.79612 & 0.17821378\\\\\n",
       "\t 24 & 0.24272284 & 34.79611 & 0.17515908\\\\\n",
       "\\end{tabular}\n"
      ],
      "text/markdown": [
       "\n",
       "A tibble: 24 × 4\n",
       "\n",
       "| n_input_variables &lt;int&gt; | RSQ &lt;dbl&gt; | RSS &lt;dbl&gt; | ADJ.R2 &lt;dbl&gt; |\n",
       "|---|---|---|---|\n",
       "|  1 | 0.06108640 | 43.14212 | 0.05787095 |\n",
       "|  2 | 0.09659351 | 41.51061 | 0.09038453 |\n",
       "|  3 | 0.13258815 | 39.85669 | 0.12361493 |\n",
       "|  4 | 0.16043190 | 38.57730 | 0.14881158 |\n",
       "|  5 | 0.17490806 | 37.91213 | 0.16058355 |\n",
       "|  6 | 0.19187091 | 37.13271 | 0.17497622 |\n",
       "|  7 | 0.20259849 | 36.63979 | 0.18308166 |\n",
       "|  8 | 0.21136067 | 36.23717 | 0.18922342 |\n",
       "|  9 | 0.21794692 | 35.93454 | 0.19316355 |\n",
       "| 10 | 0.22232155 | 35.73353 | 0.19484174 |\n",
       "| 11 | 0.22393830 | 35.65924 | 0.19366639 |\n",
       "| 12 | 0.22794249 | 35.47525 | 0.19497207 |\n",
       "| 13 | 0.23166274 | 35.30431 | 0.19598994 |\n",
       "| 14 | 0.23514871 | 35.14414 | 0.19676908 |\n",
       "| 15 | 0.23786416 | 35.01936 | 0.19674173 |\n",
       "| 16 | 0.23898248 | 34.96798 | 0.19502479 |\n",
       "| 17 | 0.24009534 | 34.91684 | 0.19328962 |\n",
       "| 18 | 0.24094076 | 34.87800 | 0.19125688 |\n",
       "| 19 | 0.24193144 | 34.83248 | 0.18936464 |\n",
       "| 20 | 0.24202857 | 34.82801 | 0.18649953 |\n",
       "| 21 | 0.24239867 | 34.81101 | 0.18390739 |\n",
       "| 22 | 0.24260359 | 34.80159 | 0.18111753 |\n",
       "| 23 | 0.24272260 | 34.79612 | 0.17821378 |\n",
       "| 24 | 0.24272284 | 34.79611 | 0.17515908 |\n",
       "\n"
      ],
      "text/plain": [
       "   n_input_variables RSQ        RSS      ADJ.R2    \n",
       "1   1                0.06108640 43.14212 0.05787095\n",
       "2   2                0.09659351 41.51061 0.09038453\n",
       "3   3                0.13258815 39.85669 0.12361493\n",
       "4   4                0.16043190 38.57730 0.14881158\n",
       "5   5                0.17490806 37.91213 0.16058355\n",
       "6   6                0.19187091 37.13271 0.17497622\n",
       "7   7                0.20259849 36.63979 0.18308166\n",
       "8   8                0.21136067 36.23717 0.18922342\n",
       "9   9                0.21794692 35.93454 0.19316355\n",
       "10 10                0.22232155 35.73353 0.19484174\n",
       "11 11                0.22393830 35.65924 0.19366639\n",
       "12 12                0.22794249 35.47525 0.19497207\n",
       "13 13                0.23166274 35.30431 0.19598994\n",
       "14 14                0.23514871 35.14414 0.19676908\n",
       "15 15                0.23786416 35.01936 0.19674173\n",
       "16 16                0.23898248 34.96798 0.19502479\n",
       "17 17                0.24009534 34.91684 0.19328962\n",
       "18 18                0.24094076 34.87800 0.19125688\n",
       "19 19                0.24193144 34.83248 0.18936464\n",
       "20 20                0.24202857 34.82801 0.18649953\n",
       "21 21                0.24239867 34.81101 0.18390739\n",
       "22 22                0.24260359 34.80159 0.18111753\n",
       "23 23                0.24272260 34.79612 0.17821378\n",
       "24 24                0.24272284 34.79611 0.17515908"
      ]
     },
     "metadata": {},
     "output_type": "display_data"
    },
    {
     "data": {
      "text/plain": [
       "Subset selection object\n",
       "Call: regsubsets.formula(x = Attrition ~ ., nvmax = 26, data = attrition_data_selection, \n",
       "    method = \"backward\", )\n",
       "25 Variables  (and intercept)\n",
       "                         Forced in Forced out\n",
       "Age                          FALSE      FALSE\n",
       "DailyRate                    FALSE      FALSE\n",
       "DistanceFromHome             FALSE      FALSE\n",
       "Education                    FALSE      FALSE\n",
       "EnvironmentSatisfaction      FALSE      FALSE\n",
       "Gender                       FALSE      FALSE\n",
       "HourlyRate                   FALSE      FALSE\n",
       "JobInvolvement               FALSE      FALSE\n",
       "JobLevel                     FALSE      FALSE\n",
       "JobSatisfaction              FALSE      FALSE\n",
       "MonthlyIncome                FALSE      FALSE\n",
       "MonthlyRate                  FALSE      FALSE\n",
       "NumCompaniesWorked           FALSE      FALSE\n",
       "PercentSalaryHike            FALSE      FALSE\n",
       "PerformanceRating            FALSE      FALSE\n",
       "RelationshipSatisfaction     FALSE      FALSE\n",
       "StockOptionLevel             FALSE      FALSE\n",
       "TotalWorkingYears            FALSE      FALSE\n",
       "TrainingTimesLastYear        FALSE      FALSE\n",
       "WorkLifeBalance              FALSE      FALSE\n",
       "YearsAtCompany               FALSE      FALSE\n",
       "YearsInCurrentRole           FALSE      FALSE\n",
       "YearsSinceLastPromotion      FALSE      FALSE\n",
       "YearsWithCurrManager         FALSE      FALSE\n",
       "OverTime                     FALSE      FALSE\n",
       "1 subsets of each size up to 24\n",
       "Selection Algorithm: backward\n",
       "          Age DailyRate DistanceFromHome Education EnvironmentSatisfaction\n",
       "1  ( 1 )  \" \" \" \"       \" \"              \" \"       \" \"                    \n",
       "2  ( 1 )  \" \" \"*\"       \" \"              \" \"       \" \"                    \n",
       "3  ( 1 )  \" \" \"*\"       \" \"              \" \"       \" \"                    \n",
       "4  ( 1 )  \" \" \"*\"       \" \"              \" \"       \" \"                    \n",
       "5  ( 1 )  \"*\" \"*\"       \" \"              \" \"       \" \"                    \n",
       "6  ( 1 )  \"*\" \"*\"       \" \"              \" \"       \" \"                    \n",
       "7  ( 1 )  \"*\" \"*\"       \" \"              \" \"       \" \"                    \n",
       "8  ( 1 )  \"*\" \"*\"       \" \"              \" \"       \" \"                    \n",
       "9  ( 1 )  \"*\" \"*\"       \" \"              \" \"       \" \"                    \n",
       "10  ( 1 ) \"*\" \"*\"       \"*\"              \" \"       \" \"                    \n",
       "11  ( 1 ) \"*\" \"*\"       \"*\"              \" \"       \" \"                    \n",
       "12  ( 1 ) \"*\" \"*\"       \"*\"              \" \"       \" \"                    \n",
       "13  ( 1 ) \"*\" \"*\"       \"*\"              \" \"       \" \"                    \n",
       "14  ( 1 ) \"*\" \"*\"       \"*\"              \" \"       \" \"                    \n",
       "15  ( 1 ) \"*\" \"*\"       \"*\"              \" \"       \" \"                    \n",
       "16  ( 1 ) \"*\" \"*\"       \"*\"              \" \"       \" \"                    \n",
       "17  ( 1 ) \"*\" \"*\"       \"*\"              \" \"       \" \"                    \n",
       "18  ( 1 ) \"*\" \"*\"       \"*\"              \"*\"       \" \"                    \n",
       "19  ( 1 ) \"*\" \"*\"       \"*\"              \"*\"       \"*\"                    \n",
       "20  ( 1 ) \"*\" \"*\"       \"*\"              \"*\"       \"*\"                    \n",
       "21  ( 1 ) \"*\" \"*\"       \"*\"              \"*\"       \"*\"                    \n",
       "22  ( 1 ) \"*\" \"*\"       \"*\"              \"*\"       \"*\"                    \n",
       "23  ( 1 ) \"*\" \"*\"       \"*\"              \"*\"       \"*\"                    \n",
       "24  ( 1 ) \"*\" \"*\"       \"*\"              \"*\"       \"*\"                    \n",
       "          Gender HourlyRate JobInvolvement JobLevel JobSatisfaction\n",
       "1  ( 1 )  \" \"    \" \"        \" \"            \" \"      \" \"            \n",
       "2  ( 1 )  \" \"    \" \"        \" \"            \" \"      \" \"            \n",
       "3  ( 1 )  \" \"    \" \"        \" \"            \" \"      \" \"            \n",
       "4  ( 1 )  \" \"    \" \"        \" \"            \" \"      \"*\"            \n",
       "5  ( 1 )  \" \"    \" \"        \" \"            \" \"      \"*\"            \n",
       "6  ( 1 )  \" \"    \" \"        \" \"            \" \"      \"*\"            \n",
       "7  ( 1 )  \" \"    \" \"        \" \"            \" \"      \"*\"            \n",
       "8  ( 1 )  \" \"    \" \"        \" \"            \" \"      \"*\"            \n",
       "9  ( 1 )  \" \"    \" \"        \"*\"            \" \"      \"*\"            \n",
       "10  ( 1 ) \" \"    \" \"        \"*\"            \" \"      \"*\"            \n",
       "11  ( 1 ) \" \"    \" \"        \"*\"            \" \"      \"*\"            \n",
       "12  ( 1 ) \" \"    \" \"        \"*\"            \" \"      \"*\"            \n",
       "13  ( 1 ) \" \"    \" \"        \"*\"            \" \"      \"*\"            \n",
       "14  ( 1 ) \" \"    \" \"        \"*\"            \" \"      \"*\"            \n",
       "15  ( 1 ) \" \"    \" \"        \"*\"            \" \"      \"*\"            \n",
       "16  ( 1 ) \"*\"    \" \"        \"*\"            \" \"      \"*\"            \n",
       "17  ( 1 ) \"*\"    \" \"        \"*\"            \" \"      \"*\"            \n",
       "18  ( 1 ) \"*\"    \" \"        \"*\"            \" \"      \"*\"            \n",
       "19  ( 1 ) \"*\"    \" \"        \"*\"            \" \"      \"*\"            \n",
       "20  ( 1 ) \"*\"    \" \"        \"*\"            \" \"      \"*\"            \n",
       "21  ( 1 ) \"*\"    \" \"        \"*\"            \" \"      \"*\"            \n",
       "22  ( 1 ) \"*\"    \" \"        \"*\"            \"*\"      \"*\"            \n",
       "23  ( 1 ) \"*\"    \" \"        \"*\"            \"*\"      \"*\"            \n",
       "24  ( 1 ) \"*\"    \"*\"        \"*\"            \"*\"      \"*\"            \n",
       "          MonthlyIncome MonthlyRate NumCompaniesWorked OverTime\n",
       "1  ( 1 )  \" \"           \" \"         \" \"                \" \"     \n",
       "2  ( 1 )  \" \"           \" \"         \" \"                \" \"     \n",
       "3  ( 1 )  \" \"           \" \"         \" \"                \" \"     \n",
       "4  ( 1 )  \" \"           \" \"         \" \"                \" \"     \n",
       "5  ( 1 )  \" \"           \" \"         \" \"                \" \"     \n",
       "6  ( 1 )  \" \"           \" \"         \" \"                \" \"     \n",
       "7  ( 1 )  \" \"           \" \"         \" \"                \" \"     \n",
       "8  ( 1 )  \" \"           \" \"         \" \"                \" \"     \n",
       "9  ( 1 )  \" \"           \" \"         \" \"                \" \"     \n",
       "10  ( 1 ) \" \"           \" \"         \" \"                \" \"     \n",
       "11  ( 1 ) \" \"           \" \"         \" \"                \" \"     \n",
       "12  ( 1 ) \" \"           \" \"         \" \"                \" \"     \n",
       "13  ( 1 ) \"*\"           \" \"         \" \"                \" \"     \n",
       "14  ( 1 ) \"*\"           \" \"         \" \"                \" \"     \n",
       "15  ( 1 ) \"*\"           \" \"         \"*\"                \" \"     \n",
       "16  ( 1 ) \"*\"           \" \"         \"*\"                \" \"     \n",
       "17  ( 1 ) \"*\"           \"*\"         \"*\"                \" \"     \n",
       "18  ( 1 ) \"*\"           \"*\"         \"*\"                \" \"     \n",
       "19  ( 1 ) \"*\"           \"*\"         \"*\"                \" \"     \n",
       "20  ( 1 ) \"*\"           \"*\"         \"*\"                \" \"     \n",
       "21  ( 1 ) \"*\"           \"*\"         \"*\"                \" \"     \n",
       "22  ( 1 ) \"*\"           \"*\"         \"*\"                \" \"     \n",
       "23  ( 1 ) \"*\"           \"*\"         \"*\"                \" \"     \n",
       "24  ( 1 ) \"*\"           \"*\"         \"*\"                \" \"     \n",
       "          PercentSalaryHike PerformanceRating RelationshipSatisfaction\n",
       "1  ( 1 )  \" \"               \" \"               \" \"                     \n",
       "2  ( 1 )  \" \"               \" \"               \" \"                     \n",
       "3  ( 1 )  \" \"               \" \"               \" \"                     \n",
       "4  ( 1 )  \" \"               \" \"               \" \"                     \n",
       "5  ( 1 )  \" \"               \" \"               \" \"                     \n",
       "6  ( 1 )  \" \"               \" \"               \" \"                     \n",
       "7  ( 1 )  \" \"               \" \"               \" \"                     \n",
       "8  ( 1 )  \" \"               \" \"               \" \"                     \n",
       "9  ( 1 )  \" \"               \" \"               \" \"                     \n",
       "10  ( 1 ) \" \"               \" \"               \" \"                     \n",
       "11  ( 1 ) \" \"               \" \"               \" \"                     \n",
       "12  ( 1 ) \" \"               \" \"               \" \"                     \n",
       "13  ( 1 ) \" \"               \" \"               \" \"                     \n",
       "14  ( 1 ) \" \"               \" \"               \"*\"                     \n",
       "15  ( 1 ) \" \"               \" \"               \"*\"                     \n",
       "16  ( 1 ) \" \"               \" \"               \"*\"                     \n",
       "17  ( 1 ) \" \"               \" \"               \"*\"                     \n",
       "18  ( 1 ) \" \"               \" \"               \"*\"                     \n",
       "19  ( 1 ) \" \"               \" \"               \"*\"                     \n",
       "20  ( 1 ) \" \"               \"*\"               \"*\"                     \n",
       "21  ( 1 ) \"*\"               \"*\"               \"*\"                     \n",
       "22  ( 1 ) \"*\"               \"*\"               \"*\"                     \n",
       "23  ( 1 ) \"*\"               \"*\"               \"*\"                     \n",
       "24  ( 1 ) \"*\"               \"*\"               \"*\"                     \n",
       "          StockOptionLevel TotalWorkingYears TrainingTimesLastYear\n",
       "1  ( 1 )  \"*\"              \" \"               \" \"                  \n",
       "2  ( 1 )  \"*\"              \" \"               \" \"                  \n",
       "3  ( 1 )  \"*\"              \" \"               \" \"                  \n",
       "4  ( 1 )  \"*\"              \" \"               \" \"                  \n",
       "5  ( 1 )  \"*\"              \" \"               \" \"                  \n",
       "6  ( 1 )  \"*\"              \" \"               \" \"                  \n",
       "7  ( 1 )  \"*\"              \" \"               \" \"                  \n",
       "8  ( 1 )  \"*\"              \" \"               \"*\"                  \n",
       "9  ( 1 )  \"*\"              \" \"               \"*\"                  \n",
       "10  ( 1 ) \"*\"              \" \"               \"*\"                  \n",
       "11  ( 1 ) \"*\"              \" \"               \"*\"                  \n",
       "12  ( 1 ) \"*\"              \" \"               \"*\"                  \n",
       "13  ( 1 ) \"*\"              \" \"               \"*\"                  \n",
       "14  ( 1 ) \"*\"              \" \"               \"*\"                  \n",
       "15  ( 1 ) \"*\"              \" \"               \"*\"                  \n",
       "16  ( 1 ) \"*\"              \" \"               \"*\"                  \n",
       "17  ( 1 ) \"*\"              \" \"               \"*\"                  \n",
       "18  ( 1 ) \"*\"              \" \"               \"*\"                  \n",
       "19  ( 1 ) \"*\"              \" \"               \"*\"                  \n",
       "20  ( 1 ) \"*\"              \" \"               \"*\"                  \n",
       "21  ( 1 ) \"*\"              \" \"               \"*\"                  \n",
       "22  ( 1 ) \"*\"              \" \"               \"*\"                  \n",
       "23  ( 1 ) \"*\"              \"*\"               \"*\"                  \n",
       "24  ( 1 ) \"*\"              \"*\"               \"*\"                  \n",
       "          WorkLifeBalance YearsAtCompany YearsInCurrentRole\n",
       "1  ( 1 )  \" \"             \" \"            \" \"               \n",
       "2  ( 1 )  \" \"             \" \"            \" \"               \n",
       "3  ( 1 )  \" \"             \" \"            \" \"               \n",
       "4  ( 1 )  \" \"             \" \"            \" \"               \n",
       "5  ( 1 )  \" \"             \" \"            \" \"               \n",
       "6  ( 1 )  \" \"             \" \"            \" \"               \n",
       "7  ( 1 )  \"*\"             \" \"            \" \"               \n",
       "8  ( 1 )  \"*\"             \" \"            \" \"               \n",
       "9  ( 1 )  \"*\"             \" \"            \" \"               \n",
       "10  ( 1 ) \"*\"             \" \"            \" \"               \n",
       "11  ( 1 ) \"*\"             \" \"            \"*\"               \n",
       "12  ( 1 ) \"*\"             \"*\"            \"*\"               \n",
       "13  ( 1 ) \"*\"             \"*\"            \"*\"               \n",
       "14  ( 1 ) \"*\"             \"*\"            \"*\"               \n",
       "15  ( 1 ) \"*\"             \"*\"            \"*\"               \n",
       "16  ( 1 ) \"*\"             \"*\"            \"*\"               \n",
       "17  ( 1 ) \"*\"             \"*\"            \"*\"               \n",
       "18  ( 1 ) \"*\"             \"*\"            \"*\"               \n",
       "19  ( 1 ) \"*\"             \"*\"            \"*\"               \n",
       "20  ( 1 ) \"*\"             \"*\"            \"*\"               \n",
       "21  ( 1 ) \"*\"             \"*\"            \"*\"               \n",
       "22  ( 1 ) \"*\"             \"*\"            \"*\"               \n",
       "23  ( 1 ) \"*\"             \"*\"            \"*\"               \n",
       "24  ( 1 ) \"*\"             \"*\"            \"*\"               \n",
       "          YearsSinceLastPromotion YearsWithCurrManager\n",
       "1  ( 1 )  \" \"                     \" \"                 \n",
       "2  ( 1 )  \" \"                     \" \"                 \n",
       "3  ( 1 )  \" \"                     \"*\"                 \n",
       "4  ( 1 )  \" \"                     \"*\"                 \n",
       "5  ( 1 )  \" \"                     \"*\"                 \n",
       "6  ( 1 )  \"*\"                     \"*\"                 \n",
       "7  ( 1 )  \"*\"                     \"*\"                 \n",
       "8  ( 1 )  \"*\"                     \"*\"                 \n",
       "9  ( 1 )  \"*\"                     \"*\"                 \n",
       "10  ( 1 ) \"*\"                     \"*\"                 \n",
       "11  ( 1 ) \"*\"                     \"*\"                 \n",
       "12  ( 1 ) \"*\"                     \"*\"                 \n",
       "13  ( 1 ) \"*\"                     \"*\"                 \n",
       "14  ( 1 ) \"*\"                     \"*\"                 \n",
       "15  ( 1 ) \"*\"                     \"*\"                 \n",
       "16  ( 1 ) \"*\"                     \"*\"                 \n",
       "17  ( 1 ) \"*\"                     \"*\"                 \n",
       "18  ( 1 ) \"*\"                     \"*\"                 \n",
       "19  ( 1 ) \"*\"                     \"*\"                 \n",
       "20  ( 1 ) \"*\"                     \"*\"                 \n",
       "21  ( 1 ) \"*\"                     \"*\"                 \n",
       "22  ( 1 ) \"*\"                     \"*\"                 \n",
       "23  ( 1 ) \"*\"                     \"*\"                 \n",
       "24  ( 1 ) \"*\"                     \"*\"                 "
      ]
     },
     "metadata": {},
     "output_type": "display_data"
    }
   ],
   "source": [
    "attrition_backward_sel <- leaps::regsubsets(\n",
    "  x= Attrition ~. , \n",
    "  nvmax= 26,\n",
    "  data= attrition_data_selection,\n",
    "  method= \"backward\",\n",
    ")\n",
    "\n",
    "attrition_backward_sel\n",
    "\n",
    "attrition_bwd_summary <- summary(attrition_backward_sel)\n",
    "\n",
    "# Create a tibble with performance metrics for each subset size\n",
    "attrition_bwd_summary_df <- tibble(\n",
    "    n_input_variables = 1:24,                # Number of predictors\n",
    "    RSQ = attrition_bwd_summary$rsq,        # R-squared\n",
    "    RSS = attrition_bwd_summary$rss,        # Residual sum of squares\n",
    "    ADJ.R2 = attrition_bwd_summary$adjr2    # Adjusted R-squared\n",
    ")\n",
    "\n",
    "# View the summary table\n",
    "attrition_bwd_summary_df\n",
    "attrition_bwd_summary"
   ]
  },
  {
   "cell_type": "code",
   "execution_count": 164,
   "id": "668401e6-647e-471c-8817-fba7ebca4c6b",
   "metadata": {},
   "outputs": [],
   "source": [
    "model_2 <- glm(\n",
    "        formula = Attrition ~ Age + DailyRate + DistanceFromHome + JobInvolvement + JobSatisfaction + MonthlyIncome + RelationshipSatisfaction + StockOptionLevel + TrainingTimesLastYear + WorkLifeBalance + YearsAtCompany + YearsInCurrentRole + YearsSinceLastPromotion + YearsWithCurrManager,\n",
    "        data = attrition_data_train,\n",
    "        family = binomial)"
   ]
  },
  {
   "cell_type": "code",
   "execution_count": 165,
   "id": "3242e8de-9270-4cd9-b6f9-a39afd3043b8",
   "metadata": {},
   "outputs": [
    {
     "data": {
      "text/plain": [
       "Confusion Matrix and Statistics\n",
       "\n",
       "          Reference\n",
       "Prediction   0   1\n",
       "         0 250  38\n",
       "         1   2   4\n",
       "                                         \n",
       "               Accuracy : 0.8639         \n",
       "                 95% CI : (0.8194, 0.901)\n",
       "    No Information Rate : 0.8571         \n",
       "    P-Value [Acc > NIR] : 0.4086         \n",
       "                                         \n",
       "                  Kappa : 0.1358         \n",
       "                                         \n",
       " Mcnemar's Test P-Value : 3.13e-08       \n",
       "                                         \n",
       "            Sensitivity : 0.09524        \n",
       "            Specificity : 0.99206        \n",
       "         Pos Pred Value : 0.66667        \n",
       "         Neg Pred Value : 0.86806        \n",
       "             Prevalence : 0.14286        \n",
       "         Detection Rate : 0.01361        \n",
       "   Detection Prevalence : 0.02041        \n",
       "      Balanced Accuracy : 0.54365        \n",
       "                                         \n",
       "       'Positive' Class : 1              \n",
       "                                         "
      ]
     },
     "metadata": {},
     "output_type": "display_data"
    }
   ],
   "source": [
    "pred_classes <- \n",
    "  round(predict(model_2, newdata = attrition_data_test, type = \"response\"),0)\n",
    "\n",
    "#illustarte results in confusion matrix\n",
    "attrition_data_confusion_matrix <- \n",
    "    confusionMatrix(\n",
    "    data = as.factor(pred_classes),\n",
    "    reference = as.factor(attrition_data_test$Attrition),\n",
    "    positive = '1'\n",
    ")\n",
    "\n",
    "\n",
    "attrition_data_confusion_matrix"
   ]
  },
  {
   "cell_type": "code",
   "execution_count": 88,
   "id": "b0289738-cf4b-4cf2-b7a1-9c2b30fbaf7f",
   "metadata": {},
   "outputs": [
    {
     "data": {
      "text/plain": [
       "\n",
       "  No  Yes \n",
       "1233  237 "
      ]
     },
     "metadata": {},
     "output_type": "display_data"
    }
   ],
   "source": [
    "table(attrition_data$Attrition)"
   ]
  },
  {
   "cell_type": "code",
   "execution_count": 89,
   "id": "852f858f-e490-4b3e-9fc9-a972c887e4cd",
   "metadata": {},
   "outputs": [
    {
     "data": {
      "text/plain": [
       "\n",
       "   0    1 \n",
       "1233  237 "
      ]
     },
     "metadata": {},
     "output_type": "display_data"
    }
   ],
   "source": [
    "attrition_data <- attrition_data %>%\n",
    "  mutate(JobSatisfaction = as.factor(JobSatisfaction))\n",
    "\n",
    "attrition_data$Attrition <- ifelse(attrition_data$Attrition == \"Yes\", 1, 0)\n",
    "\n",
    "table(attrition_data$Attrition)"
   ]
  },
  {
   "cell_type": "code",
   "execution_count": 95,
   "id": "9c6bfb3a-4a87-4695-9b83-9e60d56c8972",
   "metadata": {},
   "outputs": [
    {
     "name": "stdout",
     "output_type": "stream",
     "text": [
      "Training Set Class Distribution:\n",
      "\n",
      "  0   1 \n",
      "867 162 \n",
      "\n",
      "Test Set Class Distribution:\n",
      "\n",
      "  0   1 \n",
      "366  75 \n",
      "\n",
      "Balanced Training Set Class Distribution:\n"
     ]
    },
    {
     "data": {
      "text/plain": [
       "\n",
       "  0   1 \n",
       "726 303 "
      ]
     },
     "metadata": {},
     "output_type": "display_data"
    }
   ],
   "source": [
    "set.seed(123)\n",
    "\n",
    "attrition_data <- attrition_data %>%\n",
    "  mutate(ID = row_number())\n",
    "\n",
    "#training set\n",
    "attrition_data_train <- \n",
    "    attrition_data %>% \n",
    "    slice_sample(prop = 0.70)\n",
    "\n",
    "#test set \n",
    "attrition_data_test <- \n",
    "    attrition_data %>% \n",
    "    anti_join(attrition_data_train, by = \"ID\")\n",
    "\n",
    "cat(\"Training Set Class Distribution:\\n\")\n",
    "print(table(attrition_data_train$Attrition))\n",
    "\n",
    "cat(\"\\nTest Set Class Distribution:\\n\")\n",
    "print(table(attrition_data_test$Attrition))\n",
    "\n",
    "library(ROSE)\n",
    "balanced_data_train <- ovun.sample(\n",
    "    Attrition ~ ., \n",
    "    data = attrition_data_train, \n",
    "    method = \"both\", # You can use \"over\" or \"both\"\n",
    "    p = 0.3 # Proportion of the minority class you want (30%)\n",
    ")$data\n",
    "\n",
    "cat(\"\\nBalanced Training Set Class Distribution:\\n\")\n",
    "table(balanced_data_train$Attrition)\n",
    "\n",
    "attrition_data_train <- balanced_data_train  %>% select(-ID)\n",
    "attrition_data_test <- attrition_data_test  %>% select(-ID)"
   ]
  },
  {
   "cell_type": "code",
   "execution_count": 96,
   "id": "eb7fa591-5956-4ee7-bfcc-411937837320",
   "metadata": {},
   "outputs": [
    {
     "data": {
      "text/plain": [
       "\n",
       "  0   1 \n",
       "366  75 "
      ]
     },
     "metadata": {},
     "output_type": "display_data"
    },
    {
     "data": {
      "text/plain": [
       "\n",
       "  0   1 \n",
       "726 303 "
      ]
     },
     "metadata": {},
     "output_type": "display_data"
    }
   ],
   "source": [
    "table(attrition_data_test$Attrition)\n",
    "table(attrition_data_train$Attrition)"
   ]
  },
  {
   "cell_type": "code",
   "execution_count": 105,
   "id": "81f53dbe-5f10-4a70-84c3-1d5c9da2f612",
   "metadata": {},
   "outputs": [
    {
     "name": "stdout",
     "output_type": "stream",
     "text": [
      "[1] 0.1878404\n"
     ]
    }
   ],
   "source": [
    "#additive model \n",
    "logistic_model <- \n",
    "    glm(\n",
    "        formula = Attrition ~ MonthlyIncome + YearsAtCompany + JobSatisfaction,\n",
    "        data = attrition_data_train,\n",
    "        family = binomial)\n",
    "\n",
    "# Perform 10-fold cross-validation\n",
    "cv_results <- cv.glm(\n",
    "    data = attrition_data_train, \n",
    "    glmfit = logistic_model,\n",
    "    K = 10\n",
    ")\n",
    "\n",
    "# View cross-validated error\n",
    "print(cv_results$delta[1])  # Cross-validation errors\n"
   ]
  },
  {
   "cell_type": "code",
   "execution_count": 113,
   "id": "79259aab-08a0-4991-8f75-df68f8102258",
   "metadata": {},
   "outputs": [
    {
     "data": {
      "text/plain": [
       "Confusion Matrix and Statistics\n",
       "\n",
       "          Reference\n",
       "Prediction   0   1\n",
       "         0 345  65\n",
       "         1  21  10\n",
       "                                          \n",
       "               Accuracy : 0.805           \n",
       "                 95% CI : (0.7649, 0.8409)\n",
       "    No Information Rate : 0.8299          \n",
       "    P-Value [Acc > NIR] : 0.9255          \n",
       "                                          \n",
       "                  Kappa : 0.0991          \n",
       "                                          \n",
       " Mcnemar's Test P-Value : 3.538e-06       \n",
       "                                          \n",
       "            Sensitivity : 0.13333         \n",
       "            Specificity : 0.94262         \n",
       "         Pos Pred Value : 0.32258         \n",
       "         Neg Pred Value : 0.84146         \n",
       "             Prevalence : 0.17007         \n",
       "         Detection Rate : 0.02268         \n",
       "   Detection Prevalence : 0.07029         \n",
       "      Balanced Accuracy : 0.53798         \n",
       "                                          \n",
       "       'Positive' Class : 1               \n",
       "                                          "
      ]
     },
     "metadata": {},
     "output_type": "display_data"
    }
   ],
   "source": [
    "#predict attrition class on test set\n",
    "pred_classes <- \n",
    "  round(predict(logistic_model, newdata = attrition_data_test, type = \"response\"),0)\n",
    "\n",
    "#illustarte results in confusion matrix\n",
    "attrition_data_confusion_matrix <- \n",
    "    confusionMatrix(\n",
    "    data = as.factor(pred_classes),\n",
    "    reference = as.factor(attrition_data_test$Attrition),\n",
    "    positive = '1'\n",
    ")\n",
    "\n",
    "\n",
    "attrition_data_confusion_matrix"
   ]
  },
  {
   "cell_type": "markdown",
   "id": "4d842bff-451c-4505-8ab4-967fa8f3ae2c",
   "metadata": {},
   "source": [
    "## Discussion ##"
   ]
  },
  {
   "cell_type": "markdown",
   "id": "b1d99be2-4d69-457b-97e8-c7a4e692199b",
   "metadata": {},
   "source": [
    "## References ## "
   ]
  },
  {
   "cell_type": "code",
   "execution_count": null,
   "id": "2e2e0fbd-cfba-4e04-bf20-0448c435296c",
   "metadata": {},
   "outputs": [],
   "source": []
  }
 ],
 "metadata": {
  "kernelspec": {
   "display_name": "R",
   "language": "R",
   "name": "ir"
  },
  "language_info": {
   "codemirror_mode": "r",
   "file_extension": ".r",
   "mimetype": "text/x-r-source",
   "name": "R",
   "pygments_lexer": "r",
   "version": "4.3.3"
  }
 },
 "nbformat": 4,
 "nbformat_minor": 5
}
