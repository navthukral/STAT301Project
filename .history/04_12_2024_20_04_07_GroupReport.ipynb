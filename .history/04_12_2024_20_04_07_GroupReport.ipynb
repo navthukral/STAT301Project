{
 "cells": [
  {
   "cell_type": "markdown",
   "id": "8e479889-a32f-454a-91e3-26f93524a76a",
   "metadata": {},
   "source": [
    "# Modelling and Predicting Employee Attrition #"
   ]
  },
  {
   "cell_type": "code",
   "execution_count": 128,
   "id": "8e51a462-8084-4b82-b3f3-5d991d57c368",
   "metadata": {},
   "outputs": [
    {
     "name": "stderr",
     "output_type": "stream",
     "text": [
      "Updating HTML index of packages in '.Library'\n",
      "\n",
      "Making 'packages.html' ...\n",
      " done\n",
      "\n"
     ]
    }
   ],
   "source": [
    "library(tidyverse)\n",
    "library(broom)\n",
    "library(GGally)\n",
    "library(car)\n",
    "library(glmnet)\n",
    "library(caret)\n",
    "library(repr)\n",
    "library(infer)\n",
    "library(gridExtra)\n",
    "library(pROC)\n",
    "library(boot)\n",
    "install.packages(\"ROSE\")\n",
    "options(warn = -1)"
   ]
  },
  {
   "cell_type": "markdown",
   "id": "515adb7b-4c30-4bcc-9492-df8c1011923d",
   "metadata": {},
   "source": [
    "## STAT 301: Planning Stage\n",
    "\n",
    "#### Names: Justin Bourdon, Nour Abdelfattah\n",
    "\n",
    "#### Student Numbers: 13755392, 97158414"
   ]
  },
  {
   "cell_type": "markdown",
   "id": "99c3f3b7-3ecc-4112-a4be-c62e980f944f",
   "metadata": {},
   "source": [
    "## Introduction"
   ]
  },
  {
   "cell_type": "code",
   "execution_count": 144,
   "id": "ba01638c-0aa0-474c-811d-2026cda98cbc",
   "metadata": {},
   "outputs": [
    {
     "name": "stderr",
     "output_type": "stream",
     "text": [
      "\u001b[1mRows: \u001b[22m\u001b[34m1470\u001b[39m \u001b[1mColumns: \u001b[22m\u001b[34m35\u001b[39m\n",
      "\u001b[36m──\u001b[39m \u001b[1mColumn specification\u001b[22m \u001b[36m────────────────────────────────────────────────────────\u001b[39m\n",
      "\u001b[1mDelimiter:\u001b[22m \",\"\n",
      "\u001b[31mchr\u001b[39m  (9): Attrition, BusinessTravel, Department, EducationField, Gender, Job...\n",
      "\u001b[32mdbl\u001b[39m (26): Age, DailyRate, DistanceFromHome, Education, EmployeeCount, Employ...\n",
      "\n",
      "\u001b[36mℹ\u001b[39m Use `spec()` to retrieve the full column specification for this data.\n",
      "\u001b[36mℹ\u001b[39m Specify the column types or set `show_col_types = FALSE` to quiet this message.\n"
     ]
    },
    {
     "data": {
      "text/html": [
       "<table class=\"dataframe\">\n",
       "<caption>A tibble: 6 × 35</caption>\n",
       "<thead>\n",
       "\t<tr><th scope=col>Age</th><th scope=col>Attrition</th><th scope=col>BusinessTravel</th><th scope=col>DailyRate</th><th scope=col>Department</th><th scope=col>DistanceFromHome</th><th scope=col>Education</th><th scope=col>EducationField</th><th scope=col>EmployeeCount</th><th scope=col>EmployeeNumber</th><th scope=col>⋯</th><th scope=col>RelationshipSatisfaction</th><th scope=col>StandardHours</th><th scope=col>StockOptionLevel</th><th scope=col>TotalWorkingYears</th><th scope=col>TrainingTimesLastYear</th><th scope=col>WorkLifeBalance</th><th scope=col>YearsAtCompany</th><th scope=col>YearsInCurrentRole</th><th scope=col>YearsSinceLastPromotion</th><th scope=col>YearsWithCurrManager</th></tr>\n",
       "\t<tr><th scope=col>&lt;dbl&gt;</th><th scope=col>&lt;chr&gt;</th><th scope=col>&lt;chr&gt;</th><th scope=col>&lt;dbl&gt;</th><th scope=col>&lt;chr&gt;</th><th scope=col>&lt;dbl&gt;</th><th scope=col>&lt;dbl&gt;</th><th scope=col>&lt;chr&gt;</th><th scope=col>&lt;dbl&gt;</th><th scope=col>&lt;dbl&gt;</th><th scope=col>⋯</th><th scope=col>&lt;dbl&gt;</th><th scope=col>&lt;dbl&gt;</th><th scope=col>&lt;dbl&gt;</th><th scope=col>&lt;dbl&gt;</th><th scope=col>&lt;dbl&gt;</th><th scope=col>&lt;dbl&gt;</th><th scope=col>&lt;dbl&gt;</th><th scope=col>&lt;dbl&gt;</th><th scope=col>&lt;dbl&gt;</th><th scope=col>&lt;dbl&gt;</th></tr>\n",
       "</thead>\n",
       "<tbody>\n",
       "\t<tr><td>41</td><td>Yes</td><td>Travel_Rarely    </td><td>1102</td><td>Sales                 </td><td>1</td><td>2</td><td>Life Sciences</td><td>1</td><td>1</td><td>⋯</td><td>1</td><td>80</td><td>0</td><td> 8</td><td>0</td><td>1</td><td> 6</td><td>4</td><td>0</td><td>5</td></tr>\n",
       "\t<tr><td>49</td><td>No </td><td>Travel_Frequently</td><td> 279</td><td>Research &amp; Development</td><td>8</td><td>1</td><td>Life Sciences</td><td>1</td><td>2</td><td>⋯</td><td>4</td><td>80</td><td>1</td><td>10</td><td>3</td><td>3</td><td>10</td><td>7</td><td>1</td><td>7</td></tr>\n",
       "\t<tr><td>37</td><td>Yes</td><td><span style=white-space:pre-wrap>Travel_Rarely    </span></td><td>1373</td><td>Research &amp; Development</td><td>2</td><td>2</td><td><span style=white-space:pre-wrap>Other        </span></td><td>1</td><td>4</td><td>⋯</td><td>2</td><td>80</td><td>0</td><td> 7</td><td>3</td><td>3</td><td> 0</td><td>0</td><td>0</td><td>0</td></tr>\n",
       "\t<tr><td>33</td><td>No </td><td>Travel_Frequently</td><td>1392</td><td>Research &amp; Development</td><td>3</td><td>4</td><td>Life Sciences</td><td>1</td><td>5</td><td>⋯</td><td>3</td><td>80</td><td>0</td><td> 8</td><td>3</td><td>3</td><td> 8</td><td>7</td><td>3</td><td>0</td></tr>\n",
       "\t<tr><td>27</td><td>No </td><td><span style=white-space:pre-wrap>Travel_Rarely    </span></td><td> 591</td><td>Research &amp; Development</td><td>2</td><td>1</td><td><span style=white-space:pre-wrap>Medical      </span></td><td>1</td><td>7</td><td>⋯</td><td>4</td><td>80</td><td>1</td><td> 6</td><td>3</td><td>3</td><td> 2</td><td>2</td><td>2</td><td>2</td></tr>\n",
       "\t<tr><td>32</td><td>No </td><td>Travel_Frequently</td><td>1005</td><td>Research &amp; Development</td><td>2</td><td>2</td><td>Life Sciences</td><td>1</td><td>8</td><td>⋯</td><td>3</td><td>80</td><td>0</td><td> 8</td><td>2</td><td>2</td><td> 7</td><td>7</td><td>3</td><td>6</td></tr>\n",
       "</tbody>\n",
       "</table>\n"
      ],
      "text/latex": [
       "A tibble: 6 × 35\n",
       "\\begin{tabular}{lllllllllllllllllllll}\n",
       " Age & Attrition & BusinessTravel & DailyRate & Department & DistanceFromHome & Education & EducationField & EmployeeCount & EmployeeNumber & ⋯ & RelationshipSatisfaction & StandardHours & StockOptionLevel & TotalWorkingYears & TrainingTimesLastYear & WorkLifeBalance & YearsAtCompany & YearsInCurrentRole & YearsSinceLastPromotion & YearsWithCurrManager\\\\\n",
       " <dbl> & <chr> & <chr> & <dbl> & <chr> & <dbl> & <dbl> & <chr> & <dbl> & <dbl> & ⋯ & <dbl> & <dbl> & <dbl> & <dbl> & <dbl> & <dbl> & <dbl> & <dbl> & <dbl> & <dbl>\\\\\n",
       "\\hline\n",
       "\t 41 & Yes & Travel\\_Rarely     & 1102 & Sales                  & 1 & 2 & Life Sciences & 1 & 1 & ⋯ & 1 & 80 & 0 &  8 & 0 & 1 &  6 & 4 & 0 & 5\\\\\n",
       "\t 49 & No  & Travel\\_Frequently &  279 & Research \\& Development & 8 & 1 & Life Sciences & 1 & 2 & ⋯ & 4 & 80 & 1 & 10 & 3 & 3 & 10 & 7 & 1 & 7\\\\\n",
       "\t 37 & Yes & Travel\\_Rarely     & 1373 & Research \\& Development & 2 & 2 & Other         & 1 & 4 & ⋯ & 2 & 80 & 0 &  7 & 3 & 3 &  0 & 0 & 0 & 0\\\\\n",
       "\t 33 & No  & Travel\\_Frequently & 1392 & Research \\& Development & 3 & 4 & Life Sciences & 1 & 5 & ⋯ & 3 & 80 & 0 &  8 & 3 & 3 &  8 & 7 & 3 & 0\\\\\n",
       "\t 27 & No  & Travel\\_Rarely     &  591 & Research \\& Development & 2 & 1 & Medical       & 1 & 7 & ⋯ & 4 & 80 & 1 &  6 & 3 & 3 &  2 & 2 & 2 & 2\\\\\n",
       "\t 32 & No  & Travel\\_Frequently & 1005 & Research \\& Development & 2 & 2 & Life Sciences & 1 & 8 & ⋯ & 3 & 80 & 0 &  8 & 2 & 2 &  7 & 7 & 3 & 6\\\\\n",
       "\\end{tabular}\n"
      ],
      "text/markdown": [
       "\n",
       "A tibble: 6 × 35\n",
       "\n",
       "| Age &lt;dbl&gt; | Attrition &lt;chr&gt; | BusinessTravel &lt;chr&gt; | DailyRate &lt;dbl&gt; | Department &lt;chr&gt; | DistanceFromHome &lt;dbl&gt; | Education &lt;dbl&gt; | EducationField &lt;chr&gt; | EmployeeCount &lt;dbl&gt; | EmployeeNumber &lt;dbl&gt; | ⋯ ⋯ | RelationshipSatisfaction &lt;dbl&gt; | StandardHours &lt;dbl&gt; | StockOptionLevel &lt;dbl&gt; | TotalWorkingYears &lt;dbl&gt; | TrainingTimesLastYear &lt;dbl&gt; | WorkLifeBalance &lt;dbl&gt; | YearsAtCompany &lt;dbl&gt; | YearsInCurrentRole &lt;dbl&gt; | YearsSinceLastPromotion &lt;dbl&gt; | YearsWithCurrManager &lt;dbl&gt; |\n",
       "|---|---|---|---|---|---|---|---|---|---|---|---|---|---|---|---|---|---|---|---|---|\n",
       "| 41 | Yes | Travel_Rarely     | 1102 | Sales                  | 1 | 2 | Life Sciences | 1 | 1 | ⋯ | 1 | 80 | 0 |  8 | 0 | 1 |  6 | 4 | 0 | 5 |\n",
       "| 49 | No  | Travel_Frequently |  279 | Research &amp; Development | 8 | 1 | Life Sciences | 1 | 2 | ⋯ | 4 | 80 | 1 | 10 | 3 | 3 | 10 | 7 | 1 | 7 |\n",
       "| 37 | Yes | Travel_Rarely     | 1373 | Research &amp; Development | 2 | 2 | Other         | 1 | 4 | ⋯ | 2 | 80 | 0 |  7 | 3 | 3 |  0 | 0 | 0 | 0 |\n",
       "| 33 | No  | Travel_Frequently | 1392 | Research &amp; Development | 3 | 4 | Life Sciences | 1 | 5 | ⋯ | 3 | 80 | 0 |  8 | 3 | 3 |  8 | 7 | 3 | 0 |\n",
       "| 27 | No  | Travel_Rarely     |  591 | Research &amp; Development | 2 | 1 | Medical       | 1 | 7 | ⋯ | 4 | 80 | 1 |  6 | 3 | 3 |  2 | 2 | 2 | 2 |\n",
       "| 32 | No  | Travel_Frequently | 1005 | Research &amp; Development | 2 | 2 | Life Sciences | 1 | 8 | ⋯ | 3 | 80 | 0 |  8 | 2 | 2 |  7 | 7 | 3 | 6 |\n",
       "\n"
      ],
      "text/plain": [
       "  Age Attrition BusinessTravel    DailyRate Department            \n",
       "1 41  Yes       Travel_Rarely     1102      Sales                 \n",
       "2 49  No        Travel_Frequently  279      Research & Development\n",
       "3 37  Yes       Travel_Rarely     1373      Research & Development\n",
       "4 33  No        Travel_Frequently 1392      Research & Development\n",
       "5 27  No        Travel_Rarely      591      Research & Development\n",
       "6 32  No        Travel_Frequently 1005      Research & Development\n",
       "  DistanceFromHome Education EducationField EmployeeCount EmployeeNumber ⋯\n",
       "1 1                2         Life Sciences  1             1              ⋯\n",
       "2 8                1         Life Sciences  1             2              ⋯\n",
       "3 2                2         Other          1             4              ⋯\n",
       "4 3                4         Life Sciences  1             5              ⋯\n",
       "5 2                1         Medical        1             7              ⋯\n",
       "6 2                2         Life Sciences  1             8              ⋯\n",
       "  RelationshipSatisfaction StandardHours StockOptionLevel TotalWorkingYears\n",
       "1 1                        80            0                 8               \n",
       "2 4                        80            1                10               \n",
       "3 2                        80            0                 7               \n",
       "4 3                        80            0                 8               \n",
       "5 4                        80            1                 6               \n",
       "6 3                        80            0                 8               \n",
       "  TrainingTimesLastYear WorkLifeBalance YearsAtCompany YearsInCurrentRole\n",
       "1 0                     1                6             4                 \n",
       "2 3                     3               10             7                 \n",
       "3 3                     3                0             0                 \n",
       "4 3                     3                8             7                 \n",
       "5 3                     3                2             2                 \n",
       "6 2                     2                7             7                 \n",
       "  YearsSinceLastPromotion YearsWithCurrManager\n",
       "1 0                       5                   \n",
       "2 1                       7                   \n",
       "3 0                       0                   \n",
       "4 3                       0                   \n",
       "5 2                       2                   \n",
       "6 3                       6                   "
      ]
     },
     "metadata": {},
     "output_type": "display_data"
    }
   ],
   "source": [
    "# Download latest version\n",
    "path = \"HR-Employee-Attrition 2.csv\"\n",
    "\n",
    "attrition_data=read_csv(path)\n",
    "\n",
    "head(attrition_data)"
   ]
  },
  {
   "cell_type": "markdown",
   "id": "fc9815d5-136e-49b6-a6ab-9ffebc7206cc",
   "metadata": {},
   "source": [
    "## Methods and Results ## "
   ]
  },
  {
   "cell_type": "markdown",
   "id": "fe96127e-0e11-47e3-ac09-6d0e42d15a6e",
   "metadata": {},
   "source": [
    "### 1) EDA ###"
   ]
  },
  {
   "cell_type": "markdown",
   "id": "26277520-15f9-4bf2-bfdd-f3b13b0a5e0f",
   "metadata": {},
   "source": [
    "### 2) Methods: Plan ###"
   ]
  },
  {
   "cell_type": "code",
   "execution_count": 152,
   "id": "fd9d93de-f77b-4091-904f-269693188914",
   "metadata": {},
   "outputs": [
    {
     "ename": "ERROR",
     "evalue": "\u001b[1m\u001b[33mError\u001b[39m in `select()`:\u001b[22m\n\u001b[33m!\u001b[39m Can't select columns that don't exist.\n\u001b[31m✖\u001b[39m Column `EmployeeCount` doesn't exist.\n",
     "output_type": "error",
     "traceback": [
      "\u001b[1m\u001b[33mError\u001b[39m in `select()`:\u001b[22m\n\u001b[33m!\u001b[39m Can't select columns that don't exist.\n\u001b[31m✖\u001b[39m Column `EmployeeCount` doesn't exist.\nTraceback:\n",
      "1. attrition_data %>% select(-EmployeeCount, -EmployeeNumber, -Over18, \n .     -StandardHours, -MaritalStatus, -JobRole, -EducationField, \n .     -Department, -BusinessTravel) %>% mutate(Attrition = ifelse(Attrition == \n .     \"Yes\", 1, 0), OverTime = ifelse(OverTime == \"Y\", 1, 0), Gender = ifelse(Gender == \n .     \"Male\", 1, 0))",
      "2. mutate(., Attrition = ifelse(Attrition == \"Yes\", 1, 0), OverTime = ifelse(OverTime == \n .     \"Y\", 1, 0), Gender = ifelse(Gender == \"Male\", 1, 0))",
      "3. select(., -EmployeeCount, -EmployeeNumber, -Over18, -StandardHours, \n .     -MaritalStatus, -JobRole, -EducationField, -Department, -BusinessTravel)",
      "4. select.data.frame(., -EmployeeCount, -EmployeeNumber, -Over18, \n .     -StandardHours, -MaritalStatus, -JobRole, -EducationField, \n .     -Department, -BusinessTravel)",
      "5. tidyselect::eval_select(expr(c(...)), data = .data, error_call = error_call)",
      "6. eval_select_impl(data, names(data), as_quosure(expr, env), include = include, \n .     exclude = exclude, strict = strict, name_spec = name_spec, \n .     allow_rename = allow_rename, allow_empty = allow_empty, allow_predicates = allow_predicates, \n .     error_call = error_call, )",
      "7. with_subscript_errors(out <- vars_select_eval(vars, expr, strict = strict, \n .     data = x, name_spec = name_spec, uniquely_named = uniquely_named, \n .     allow_rename = allow_rename, allow_empty = allow_empty, allow_predicates = allow_predicates, \n .     type = type, error_call = error_call), type = type)",
      "8. withCallingHandlers(expr, vctrs_error_subscript = function(cnd) {\n .     cnd$subscript_action <- subscript_action(type)\n .     cnd$subscript_elt <- \"column\"\n .     cnd_signal(cnd)\n . })",
      "9. vars_select_eval(vars, expr, strict = strict, data = x, name_spec = name_spec, \n .     uniquely_named = uniquely_named, allow_rename = allow_rename, \n .     allow_empty = allow_empty, allow_predicates = allow_predicates, \n .     type = type, error_call = error_call)",
      "10. walk_data_tree(expr, data_mask, context_mask)",
      "11. eval_c(expr, data_mask, context_mask)",
      "12. reduce_sels(node, data_mask, context_mask, init = init)",
      "13. walk_data_tree(new, data_mask, context_mask)",
      "14. as_indices_sel_impl(out, vars = vars, strict = strict, data = data, \n  .     allow_predicates = allow_predicates, call = error_call, arg = as_label(expr))",
      "15. as_indices_impl(x, vars, call = call, arg = arg, strict = strict)",
      "16. chr_as_locations(x, vars, call = call, arg = arg)",
      "17. vctrs::vec_as_location(x, n = length(vars), names = vars, call = call, \n  .     arg = arg)",
      "18. (function () \n  . stop_subscript_oob(i = i, subscript_type = subscript_type, names = names, \n  .     subscript_action = subscript_action, subscript_arg = subscript_arg, \n  .     call = call))()",
      "19. stop_subscript_oob(i = i, subscript_type = subscript_type, names = names, \n  .     subscript_action = subscript_action, subscript_arg = subscript_arg, \n  .     call = call)",
      "20. stop_subscript(class = \"vctrs_error_subscript_oob\", i = i, subscript_type = subscript_type, \n  .     ..., call = call)",
      "21. abort(class = c(class, \"vctrs_error_subscript\"), i = i, ..., \n  .     call = call)",
      "22. signal_abort(cnd, .file)",
      "23. signalCondition(cnd)",
      "24. (function (cnd) \n  . {\n  .     cnd$subscript_action <- subscript_action(type)\n  .     cnd$subscript_elt <- \"column\"\n  .     cnd_signal(cnd)\n  . })(structure(list(message = \"\", trace = structure(list(call = list(\n  .     IRkernel::main(), kernel$run(), handle_shell(), executor$execute(msg), \n  .     tryCatch(evaluate(request$content$code, envir = .GlobalEnv, \n  .         output_handler = oh, stop_on_error = 1L), interrupt = function(cond) {\n  .         log_debug(\"Interrupt during execution\")\n  .         interrupted <<- TRUE\n  .     }, error = .self$handle_error), tryCatchList(expr, classes, \n  .         parentenv, handlers), tryCatchOne(tryCatchList(expr, \n  .         names[-nh], parentenv, handlers[-nh]), names[nh], parentenv, \n  .         handlers[[nh]]), doTryCatch(return(expr), name, parentenv, \n  .         handler), tryCatchList(expr, names[-nh], parentenv, handlers[-nh]), \n  .     tryCatchOne(expr, names, parentenv, handlers[[1L]]), doTryCatch(return(expr), \n  .         name, parentenv, handler), evaluate(request$content$code, \n  .         envir = .GlobalEnv, output_handler = oh, stop_on_error = 1L), \n  .     evaluate_call(expr, parsed$src[[i]], envir = envir, enclos = enclos, \n  .         debug = debug, last = i == length(out), use_try = stop_on_error != \n  .             2L, keep_warning = keep_warning, keep_message = keep_message, \n  .         log_echo = log_echo, log_warning = log_warning, output_handler = output_handler, \n  .         include_timing = include_timing), timing_fn(handle(ev <- withCallingHandlers(withVisible(eval_with_user_handlers(expr, \n  .         envir, enclos, user_handlers)), warning = wHandler, error = eHandler, \n  .         message = mHandler))), handle(ev <- withCallingHandlers(withVisible(eval_with_user_handlers(expr, \n  .         envir, enclos, user_handlers)), warning = wHandler, error = eHandler, \n  .         message = mHandler)), try(f, silent = TRUE), tryCatch(expr, \n  .         error = function(e) {\n  .             call <- conditionCall(e)\n  .             if (!is.null(call)) {\n  .                 if (identical(call[[1L]], quote(doTryCatch))) \n  .                   call <- sys.call(-4L)\n  .                 dcall <- deparse(call, nlines = 1L)\n  .                 prefix <- paste(\"Error in\", dcall, \": \")\n  .                 LONG <- 75L\n  .                 sm <- strsplit(conditionMessage(e), \"\\n\")[[1L]]\n  .                 w <- 14L + nchar(dcall, type = \"w\") + nchar(sm[1L], \n  .                   type = \"w\")\n  .                 if (is.na(w)) \n  .                   w <- 14L + nchar(dcall, type = \"b\") + nchar(sm[1L], \n  .                     type = \"b\")\n  .                 if (w > LONG) \n  .                   prefix <- paste0(prefix, \"\\n  \")\n  .             }\n  .             else prefix <- \"Error : \"\n  .             msg <- paste0(prefix, conditionMessage(e), \"\\n\")\n  .             .Internal(seterrmessage(msg[1L]))\n  .             if (!silent && isTRUE(getOption(\"show.error.messages\"))) {\n  .                 cat(msg, file = outFile)\n  .                 .Internal(printDeferredWarnings())\n  .             }\n  .             invisible(structure(msg, class = \"try-error\", condition = e))\n  .         }), tryCatchList(expr, classes, parentenv, handlers), \n  .     tryCatchOne(expr, names, parentenv, handlers[[1L]]), doTryCatch(return(expr), \n  .         name, parentenv, handler), withCallingHandlers(withVisible(eval_with_user_handlers(expr, \n  .         envir, enclos, user_handlers)), warning = wHandler, error = eHandler, \n  .         message = mHandler), withVisible(eval_with_user_handlers(expr, \n  .         envir, enclos, user_handlers)), eval_with_user_handlers(expr, \n  .         envir, enclos, user_handlers), eval(expr, envir, enclos), \n  .     eval(expr, envir, enclos), attrition_data %>% select(-EmployeeCount, \n  .         -EmployeeNumber, -Over18, -StandardHours, -MaritalStatus, \n  .         -JobRole, -EducationField, -Department, -BusinessTravel) %>% \n  .         mutate(Attrition = ifelse(Attrition == \"Yes\", 1, 0), \n  .             OverTime = ifelse(OverTime == \"Y\", 1, 0), Gender = ifelse(Gender == \n  .                 \"Male\", 1, 0)), mutate(., Attrition = ifelse(Attrition == \n  .         \"Yes\", 1, 0), OverTime = ifelse(OverTime == \"Y\", 1, 0), \n  .         Gender = ifelse(Gender == \"Male\", 1, 0)), select(., -EmployeeCount, \n  .         -EmployeeNumber, -Over18, -StandardHours, -MaritalStatus, \n  .         -JobRole, -EducationField, -Department, -BusinessTravel), \n  .     select.data.frame(., -EmployeeCount, -EmployeeNumber, -Over18, \n  .         -StandardHours, -MaritalStatus, -JobRole, -EducationField, \n  .         -Department, -BusinessTravel), tidyselect::eval_select(expr(c(...)), \n  .         data = .data, error_call = error_call), eval_select_impl(data, \n  .         names(data), as_quosure(expr, env), include = include, \n  .         exclude = exclude, strict = strict, name_spec = name_spec, \n  .         allow_rename = allow_rename, allow_empty = allow_empty, \n  .         allow_predicates = allow_predicates, error_call = error_call, \n  .         ), with_subscript_errors(out <- vars_select_eval(vars, \n  .         expr, strict = strict, data = x, name_spec = name_spec, \n  .         uniquely_named = uniquely_named, allow_rename = allow_rename, \n  .         allow_empty = allow_empty, allow_predicates = allow_predicates, \n  .         type = type, error_call = error_call), type = type), \n  .     withCallingHandlers(expr, vctrs_error_subscript = function(cnd) {\n  .         cnd$subscript_action <- subscript_action(type)\n  .         cnd$subscript_elt <- \"column\"\n  .         cnd_signal(cnd)\n  .     }), vars_select_eval(vars, expr, strict = strict, data = x, \n  .         name_spec = name_spec, uniquely_named = uniquely_named, \n  .         allow_rename = allow_rename, allow_empty = allow_empty, \n  .         allow_predicates = allow_predicates, type = type, error_call = error_call), \n  .     walk_data_tree(expr, data_mask, context_mask), eval_c(expr, \n  .         data_mask, context_mask), reduce_sels(node, data_mask, \n  .         context_mask, init = init), walk_data_tree(new, data_mask, \n  .         context_mask), as_indices_sel_impl(out, vars = vars, \n  .         strict = strict, data = data, allow_predicates = allow_predicates, \n  .         call = error_call, arg = as_label(expr)), as_indices_impl(x, \n  .         vars, call = call, arg = arg, strict = strict), chr_as_locations(x, \n  .         vars, call = call, arg = arg), vctrs::vec_as_location(x, \n  .         n = length(vars), names = vars, call = call, arg = arg), \n  .     `<fn>`(), stop_subscript_oob(i = i, subscript_type = subscript_type, \n  .         names = names, subscript_action = subscript_action, subscript_arg = subscript_arg, \n  .         call = call), stop_subscript(class = \"vctrs_error_subscript_oob\", \n  .         i = i, subscript_type = subscript_type, ..., call = call), \n  .     abort(class = c(class, \"vctrs_error_subscript\"), i = i, ..., \n  .         call = call)), parent = c(0L, 1L, 2L, 3L, 4L, 5L, 6L, \n  . 7L, 6L, 9L, 10L, 4L, 12L, 13L, 13L, 15L, 16L, 17L, 18L, 19L, \n  . 13L, 13L, 13L, 23L, 24L, 0L, 0L, 0L, 0L, 29L, 30L, 31L, 32L, \n  . 31L, 34L, 35L, 36L, 37L, 38L, 39L, 40L, 41L, 0L, 43L, 44L, 45L\n  . ), visible = c(TRUE, TRUE, TRUE, TRUE, TRUE, TRUE, TRUE, TRUE, \n  . TRUE, TRUE, TRUE, TRUE, TRUE, TRUE, TRUE, TRUE, TRUE, TRUE, TRUE, \n  . TRUE, TRUE, TRUE, TRUE, TRUE, TRUE, TRUE, TRUE, TRUE, TRUE, FALSE, \n  . FALSE, FALSE, FALSE, FALSE, FALSE, FALSE, FALSE, FALSE, FALSE, \n  . FALSE, FALSE, FALSE, FALSE, FALSE, FALSE, FALSE), namespace = c(\"IRkernel\", \n  . NA, \"IRkernel\", NA, \"base\", \"base\", \"base\", \"base\", \"base\", \"base\", \n  . \"base\", \"evaluate\", \"evaluate\", \"evaluate\", \"evaluate\", \"base\", \n  . \"base\", \"base\", \"base\", \"base\", \"base\", \"base\", \"evaluate\", \"base\", \n  . \"base\", NA, \"dplyr\", \"dplyr\", \"dplyr\", \"tidyselect\", \"tidyselect\", \n  . \"tidyselect\", \"base\", \"tidyselect\", \"tidyselect\", \"tidyselect\", \n  . \"tidyselect\", \"tidyselect\", \"tidyselect\", \"tidyselect\", \"tidyselect\", \n  . \"vctrs\", \"vctrs\", \"vctrs\", \"vctrs\", \"rlang\"), scope = c(\"::\", \n  . NA, \"local\", NA, \"::\", \"local\", \"local\", \"local\", \"local\", \"local\", \n  . \"local\", \"::\", \":::\", \"local\", \"local\", \"::\", \"::\", \"local\", \n  . \"local\", \"local\", \"::\", \"::\", \":::\", \"::\", \"::\", NA, \"::\", \"::\", \n  . \":::\", \"::\", \":::\", \":::\", \"::\", \":::\", \":::\", \":::\", \":::\", \n  . \":::\", \":::\", \":::\", \":::\", \"::\", \"local\", \":::\", \":::\", \"::\"\n  . ), error_frame = c(FALSE, FALSE, FALSE, FALSE, FALSE, FALSE, \n  . FALSE, FALSE, FALSE, FALSE, FALSE, FALSE, FALSE, FALSE, FALSE, \n  . FALSE, FALSE, FALSE, FALSE, FALSE, FALSE, FALSE, FALSE, FALSE, \n  . FALSE, FALSE, FALSE, FALSE, TRUE, FALSE, FALSE, FALSE, FALSE, \n  . FALSE, FALSE, FALSE, FALSE, FALSE, FALSE, FALSE, FALSE, FALSE, \n  . FALSE, FALSE, FALSE, FALSE)), row.names = c(NA, -46L), version = 2L, class = c(\"rlang_trace\", \n  . \"rlib_trace\", \"tbl\", \"data.frame\")), parent = NULL, i = \"EmployeeCount\", \n  .     subscript_type = \"character\", names = c(\"Age\", \"Attrition\", \n  .     \"BusinessTravel\", \"DailyRate\", \"Department\", \"DistanceFromHome\", \n  .     \"Education\", \"EducationField\", \"EmployeeNumber\", \"EnvironmentSatisfaction\", \n  .     \"Gender\", \"HourlyRate\", \"JobInvolvement\", \"JobLevel\", \"JobRole\", \n  .     \"JobSatisfaction\", \"MaritalStatus\", \"MonthlyIncome\", \"MonthlyRate\", \n  .     \"NumCompaniesWorked\", \"Over18\", \"OverTime\", \"PercentSalaryHike\", \n  .     \"PerformanceRating\", \"RelationshipSatisfaction\", \"StandardHours\", \n  .     \"StockOptionLevel\", \"TotalWorkingYears\", \"TrainingTimesLastYear\", \n  .     \"WorkLifeBalance\", \"YearsAtCompany\", \"YearsInCurrentRole\", \n  .     \"YearsSinceLastPromotion\", \"YearsWithCurrManager\", \"ID\"), \n  .     subscript_action = NULL, subscript_arg = \"EmployeeCount\", \n  .     rlang = list(inherit = TRUE), call = select(., -EmployeeCount, \n  .         -EmployeeNumber, -Over18, -StandardHours, -MaritalStatus, \n  .         -JobRole, -EducationField, -Department, -BusinessTravel)), class = c(\"vctrs_error_subscript_oob\", \n  . \"vctrs_error_subscript\", \"rlang_error\", \"error\", \"condition\")))",
      "25. cnd_signal(cnd)",
      "26. signal_abort(cnd)"
     ]
    }
   ],
   "source": [
    "#Using Forward Selection\n",
    "#remove irrelevant variables\n",
    "\n",
    "attrition_data <- attrition_data %>%\n",
    "  # Remove specified columns\n",
    "  select(-EmployeeCount, -EmployeeNumber, -Over18, -StandardHours, \n",
    "         -MaritalStatus, -JobRole, -EducationField, -Department, -BusinessTravel) %>%\n",
    "  \n",
    "  # Convert binary categorical variables into numeric (0/1)\n",
    "  mutate(\n",
    "    Attrition = ifelse(Attrition == \"Yes\", 1, 0),\n",
    "    OverTime = ifelse(OverTime == \"Y\", 1, 0),\n",
    "    Gender = ifelse(Gender == \"Male\", 1, 0)\n",
    "  )\n"
   ]
  },
  {
   "cell_type": "code",
   "execution_count": 151,
   "id": "64734487-1df9-4af4-93a8-5073ce2a02c4",
   "metadata": {},
   "outputs": [
    {
     "name": "stdout",
     "output_type": "stream",
     "text": [
      "tibble [1,470 × 35] (S3: tbl_df/tbl/data.frame)\n",
      " $ Age                     : num [1:1470] 41 49 37 33 27 32 59 30 38 36 ...\n",
      " $ Attrition               : num [1:1470] 1 0 1 0 0 0 0 0 0 0 ...\n",
      " $ BusinessTravel          : chr [1:1470] \"Travel_Rarely\" \"Travel_Frequently\" \"Travel_Rarely\" \"Travel_Frequently\" ...\n",
      " $ DailyRate               : num [1:1470] 1102 279 1373 1392 591 ...\n",
      " $ Department              : chr [1:1470] \"Sales\" \"Research & Development\" \"Research & Development\" \"Research & Development\" ...\n",
      " $ DistanceFromHome        : num [1:1470] 1 8 2 3 2 2 3 24 23 27 ...\n",
      " $ Education               : num [1:1470] 2 1 2 4 1 2 3 1 3 3 ...\n",
      " $ EducationField          : chr [1:1470] \"Life Sciences\" \"Life Sciences\" \"Other\" \"Life Sciences\" ...\n",
      " $ EmployeeNumber          : num [1:1470] 1 2 4 5 7 8 10 11 12 13 ...\n",
      " $ EnvironmentSatisfaction : num [1:1470] 2 3 4 4 1 4 3 4 4 3 ...\n",
      " $ Gender                  : num [1:1470] 0 1 1 0 1 1 0 1 1 1 ...\n",
      " $ HourlyRate              : num [1:1470] 94 61 92 56 40 79 81 67 44 94 ...\n",
      " $ JobInvolvement          : num [1:1470] 3 2 2 3 3 3 4 3 2 3 ...\n",
      " $ JobLevel                : num [1:1470] 2 2 1 1 1 1 1 1 3 2 ...\n",
      " $ JobRole                 : chr [1:1470] \"Sales Executive\" \"Research Scientist\" \"Laboratory Technician\" \"Research Scientist\" ...\n",
      " $ JobSatisfaction         : num [1:1470] 4 2 3 3 2 4 1 3 3 3 ...\n",
      " $ MaritalStatus           : chr [1:1470] \"Single\" \"Married\" \"Single\" \"Married\" ...\n",
      " $ MonthlyIncome           : num [1:1470] 5993 5130 2090 2909 3468 ...\n",
      " $ MonthlyRate             : num [1:1470] 19479 24907 2396 23159 16632 ...\n",
      " $ NumCompaniesWorked      : num [1:1470] 8 1 6 1 9 0 4 1 0 6 ...\n",
      " $ Over18                  : chr [1:1470] \"Y\" \"Y\" \"Y\" \"Y\" ...\n",
      " $ OverTime                : num [1:1470] 0 0 0 0 0 0 0 0 0 0 ...\n",
      " $ PercentSalaryHike       : num [1:1470] 11 23 15 11 12 13 20 22 21 13 ...\n",
      " $ PerformanceRating       : num [1:1470] 3 4 3 3 3 3 4 4 4 3 ...\n",
      " $ RelationshipSatisfaction: num [1:1470] 1 4 2 3 4 3 1 2 2 2 ...\n",
      " $ StandardHours           : num [1:1470] 80 80 80 80 80 80 80 80 80 80 ...\n",
      " $ StockOptionLevel        : num [1:1470] 0 1 0 0 1 0 3 1 0 2 ...\n",
      " $ TotalWorkingYears       : num [1:1470] 8 10 7 8 6 8 12 1 10 17 ...\n",
      " $ TrainingTimesLastYear   : num [1:1470] 0 3 3 3 3 2 3 2 2 3 ...\n",
      " $ WorkLifeBalance         : num [1:1470] 1 3 3 3 3 2 2 3 3 2 ...\n",
      " $ YearsAtCompany          : num [1:1470] 6 10 0 8 2 7 1 1 9 7 ...\n",
      " $ YearsInCurrentRole      : num [1:1470] 4 7 0 7 2 7 0 0 7 7 ...\n",
      " $ YearsSinceLastPromotion : num [1:1470] 0 1 0 3 2 3 0 0 1 7 ...\n",
      " $ YearsWithCurrManager    : num [1:1470] 5 7 0 0 2 6 0 0 8 7 ...\n",
      " $ ID                      : int [1:1470] 1 2 3 4 5 6 7 8 9 10 ...\n"
     ]
    }
   ],
   "source": [
    "str(attrition_data)"
   ]
  },
  {
   "cell_type": "code",
   "execution_count": 146,
   "id": "9a62b2d5-3cbf-4f08-906e-a91afa0a6a52",
   "metadata": {},
   "outputs": [
    {
     "name": "stdout",
     "output_type": "stream",
     "text": [
      "Training Set Class Distribution:\n",
      "\n",
      "  0   1 \n",
      "744 138 \n",
      "\n",
      "Selection Set Class Distribution:\n",
      "\n",
      "  0   1 \n",
      "237  57 \n",
      "\n",
      "Test Set Class Distribution:\n",
      "\n",
      "  0   1 \n",
      "252  42 \n"
     ]
    }
   ],
   "source": [
    "#split into training, testing and selection \n",
    "\n",
    "set.seed(123)\n",
    "\n",
    "# Step 1: Add an ID column for reproducibility\n",
    "attrition_data <- attrition_data %>%\n",
    "  mutate(ID = row_number())\n",
    "\n",
    "# Step 2: Split the data into training, selection, and test sets\n",
    "attrition_data_train <- attrition_data %>%\n",
    "  slice_sample(prop = 0.60)\n",
    "\n",
    "remaining_data <- attrition_data %>%\n",
    "  anti_join(attrition_data_train, by = \"ID\")\n",
    "\n",
    "attrition_data_selection <- remaining_data %>%\n",
    "  slice_sample(prop = 0.50)\n",
    "\n",
    "attrition_data_test <- remaining_data %>%\n",
    "  anti_join(attrition_data_selection, by = \"ID\")\n",
    "\n",
    "# Step 3: Remove the ID column before modeling\n",
    "attrition_data_train <- attrition_data_train %>% select(-ID)\n",
    "attrition_data_selection <- attrition_data_selection %>% select(-ID)\n",
    "attrition_data_test <- attrition_data_test %>% select(-ID)\n",
    "\n",
    "# Verify the splits\n",
    "cat(\"Training Set Class Distribution:\\n\")\n",
    "print(table(attrition_data_train$Attrition))\n",
    "\n",
    "cat(\"\\nSelection Set Class Distribution:\\n\")\n",
    "print(table(attrition_data_selection$Attrition))\n",
    "\n",
    "cat(\"\\nTest Set Class Distribution:\\n\")\n",
    "print(table(attrition_data_test$Attrition))\n"
   ]
  },
  {
   "cell_type": "code",
   "execution_count": 147,
   "id": "d696dc3c-1507-45b3-bb10-0bc1277f50e2",
   "metadata": {},
   "outputs": [],
   "source": [
    "# problematic_vars <- attrition_data_selection %>%\n",
    "#   summarise(across(where(is.factor), ~ n_distinct(.))) %>%\n",
    "#   gather(variable, n_levels) %>%\n",
    "#   filter(n_levels < 2)\n",
    "\n",
    "# print(problematic_vars)"
   ]
  },
  {
   "cell_type": "code",
   "execution_count": 148,
   "id": "42535b20-88d1-4050-a14e-95419c0b9d80",
   "metadata": {},
   "outputs": [],
   "source": [
    "# constant_vars <- attrition_data_selection %>%\n",
    "#   summarise(across(everything(), ~ n_distinct(.))) %>%\n",
    "#   gather(variable, n_unique) %>%\n",
    "#   filter(n_unique == 1)\n",
    "\n",
    "# print(constant_vars)"
   ]
  },
  {
   "cell_type": "code",
   "execution_count": 150,
   "id": "b100fa72-915f-472a-ba6b-5d772480c7c2",
   "metadata": {},
   "outputs": [
    {
     "ename": "ERROR",
     "evalue": "Error in `contrasts<-`(`*tmp*`, value = contr.funs[1 + isOF[nn]]): contrasts can be applied only to factors with 2 or more levels\n",
     "output_type": "error",
     "traceback": [
      "Error in `contrasts<-`(`*tmp*`, value = contr.funs[1 + isOF[nn]]): contrasts can be applied only to factors with 2 or more levels\nTraceback:\n",
      "1. leaps::regsubsets(x = Attrition ~ ., nvmax = 26, data = attrition_data_selection, \n .     method = \"backward\", )",
      "2. regsubsets.formula(x = Attrition ~ ., nvmax = 26, data = attrition_data_selection, \n .     method = \"backward\", )",
      "3. model.matrix(terms(formula, data = data), mm)",
      "4. model.matrix.default(terms(formula, data = data), mm)",
      "5. `contrasts<-`(`*tmp*`, value = contr.funs[1 + isOF[nn]])",
      "6. stop(\"contrasts can be applied only to factors with 2 or more levels\")"
     ]
    }
   ],
   "source": [
    "attrition_backward_sel <- leaps::regsubsets(\n",
    "  x= Attrition ~. , \n",
    "  nvmax= 26,\n",
    "  data= attrition_data_selection,\n",
    "  method= \"backward\",\n",
    ")\n",
    "\n",
    "attrition_backward_sel\n",
    "\n",
    "attrition_bwd_summary <- summary(attrition_backward_sel)\n",
    "\n",
    "# Create a tibble with performance metrics for each subset size\n",
    "attrition_bwd_summary_df <- tibble(\n",
    "    n_input_variables = 1:26,                # Number of predictors\n",
    "    RSQ = attrition_bwd_summary$rsq,        # R-squared\n",
    "    RSS = attrition_bwd_summary$rss,        # Residual sum of squares\n",
    "    ADJ.R2 = attrition_bwd_summary$adjr2    # Adjusted R-squared\n",
    ")\n",
    "\n",
    "# View the summary table\n",
    "attrition_bwd_summary_df\n",
    "attrition_bwd_summary"
   ]
  },
  {
   "cell_type": "code",
   "execution_count": 88,
   "id": "b0289738-cf4b-4cf2-b7a1-9c2b30fbaf7f",
   "metadata": {},
   "outputs": [
    {
     "data": {
      "text/plain": [
       "\n",
       "  No  Yes \n",
       "1233  237 "
      ]
     },
     "metadata": {},
     "output_type": "display_data"
    }
   ],
   "source": [
    "table(attrition_data$Attrition)"
   ]
  },
  {
   "cell_type": "code",
   "execution_count": 89,
   "id": "852f858f-e490-4b3e-9fc9-a972c887e4cd",
   "metadata": {},
   "outputs": [
    {
     "data": {
      "text/plain": [
       "\n",
       "   0    1 \n",
       "1233  237 "
      ]
     },
     "metadata": {},
     "output_type": "display_data"
    }
   ],
   "source": [
    "attrition_data <- attrition_data %>%\n",
    "  mutate(JobSatisfaction = as.factor(JobSatisfaction))\n",
    "\n",
    "attrition_data$Attrition <- ifelse(attrition_data$Attrition == \"Yes\", 1, 0)\n",
    "\n",
    "table(attrition_data$Attrition)"
   ]
  },
  {
   "cell_type": "code",
   "execution_count": 95,
   "id": "9c6bfb3a-4a87-4695-9b83-9e60d56c8972",
   "metadata": {},
   "outputs": [
    {
     "name": "stdout",
     "output_type": "stream",
     "text": [
      "Training Set Class Distribution:\n",
      "\n",
      "  0   1 \n",
      "867 162 \n",
      "\n",
      "Test Set Class Distribution:\n",
      "\n",
      "  0   1 \n",
      "366  75 \n",
      "\n",
      "Balanced Training Set Class Distribution:\n"
     ]
    },
    {
     "data": {
      "text/plain": [
       "\n",
       "  0   1 \n",
       "726 303 "
      ]
     },
     "metadata": {},
     "output_type": "display_data"
    }
   ],
   "source": [
    "set.seed(123)\n",
    "\n",
    "attrition_data <- attrition_data %>%\n",
    "  mutate(ID = row_number())\n",
    "\n",
    "#training set\n",
    "attrition_data_train <- \n",
    "    attrition_data %>% \n",
    "    slice_sample(prop = 0.70)\n",
    "\n",
    "#test set \n",
    "attrition_data_test <- \n",
    "    attrition_data %>% \n",
    "    anti_join(attrition_data_train, by = \"ID\")\n",
    "\n",
    "cat(\"Training Set Class Distribution:\\n\")\n",
    "print(table(attrition_data_train$Attrition))\n",
    "\n",
    "cat(\"\\nTest Set Class Distribution:\\n\")\n",
    "print(table(attrition_data_test$Attrition))\n",
    "\n",
    "library(ROSE)\n",
    "balanced_data_train <- ovun.sample(\n",
    "    Attrition ~ ., \n",
    "    data = attrition_data_train, \n",
    "    method = \"both\", # You can use \"over\" or \"both\"\n",
    "    p = 0.3 # Proportion of the minority class you want (30%)\n",
    ")$data\n",
    "\n",
    "cat(\"\\nBalanced Training Set Class Distribution:\\n\")\n",
    "table(balanced_data_train$Attrition)\n",
    "\n",
    "attrition_data_train <- balanced_data_train  %>% select(-ID)\n",
    "attrition_data_test <- attrition_data_test  %>% select(-ID)"
   ]
  },
  {
   "cell_type": "code",
   "execution_count": 96,
   "id": "eb7fa591-5956-4ee7-bfcc-411937837320",
   "metadata": {},
   "outputs": [
    {
     "data": {
      "text/plain": [
       "\n",
       "  0   1 \n",
       "366  75 "
      ]
     },
     "metadata": {},
     "output_type": "display_data"
    },
    {
     "data": {
      "text/plain": [
       "\n",
       "  0   1 \n",
       "726 303 "
      ]
     },
     "metadata": {},
     "output_type": "display_data"
    }
   ],
   "source": [
    "table(attrition_data_test$Attrition)\n",
    "table(attrition_data_train$Attrition)"
   ]
  },
  {
   "cell_type": "code",
   "execution_count": 105,
   "id": "81f53dbe-5f10-4a70-84c3-1d5c9da2f612",
   "metadata": {},
   "outputs": [
    {
     "name": "stdout",
     "output_type": "stream",
     "text": [
      "[1] 0.1878404\n"
     ]
    }
   ],
   "source": [
    "#additive model \n",
    "logistic_model <- \n",
    "    glm(\n",
    "        formula = Attrition ~ MonthlyIncome + YearsAtCompany + JobSatisfaction,\n",
    "        data = attrition_data_train,\n",
    "        family = binomial)\n",
    "\n",
    "# Perform 10-fold cross-validation\n",
    "cv_results <- cv.glm(\n",
    "    data = attrition_data_train, \n",
    "    glmfit = logistic_model,\n",
    "    K = 10\n",
    ")\n",
    "\n",
    "# View cross-validated error\n",
    "print(cv_results$delta[1])  # Cross-validation errors\n"
   ]
  },
  {
   "cell_type": "code",
   "execution_count": 113,
   "id": "79259aab-08a0-4991-8f75-df68f8102258",
   "metadata": {},
   "outputs": [
    {
     "data": {
      "text/plain": [
       "Confusion Matrix and Statistics\n",
       "\n",
       "          Reference\n",
       "Prediction   0   1\n",
       "         0 345  65\n",
       "         1  21  10\n",
       "                                          \n",
       "               Accuracy : 0.805           \n",
       "                 95% CI : (0.7649, 0.8409)\n",
       "    No Information Rate : 0.8299          \n",
       "    P-Value [Acc > NIR] : 0.9255          \n",
       "                                          \n",
       "                  Kappa : 0.0991          \n",
       "                                          \n",
       " Mcnemar's Test P-Value : 3.538e-06       \n",
       "                                          \n",
       "            Sensitivity : 0.13333         \n",
       "            Specificity : 0.94262         \n",
       "         Pos Pred Value : 0.32258         \n",
       "         Neg Pred Value : 0.84146         \n",
       "             Prevalence : 0.17007         \n",
       "         Detection Rate : 0.02268         \n",
       "   Detection Prevalence : 0.07029         \n",
       "      Balanced Accuracy : 0.53798         \n",
       "                                          \n",
       "       'Positive' Class : 1               \n",
       "                                          "
      ]
     },
     "metadata": {},
     "output_type": "display_data"
    }
   ],
   "source": [
    "#predict attrition class on test set\n",
    "pred_classes <- \n",
    "  round(predict(logistic_model, newdata = attrition_data_test, type = \"response\"),0)\n",
    "\n",
    "#illustarte results in confusion matrix\n",
    "attrition_data_confusion_matrix <- \n",
    "    confusionMatrix(\n",
    "    data = as.factor(pred_classes),\n",
    "    reference = as.factor(attrition_data_test$Attrition),\n",
    "    positive = '1'\n",
    ")\n",
    "\n",
    "\n",
    "attrition_data_confusion_matrix"
   ]
  },
  {
   "cell_type": "markdown",
   "id": "4d842bff-451c-4505-8ab4-967fa8f3ae2c",
   "metadata": {},
   "source": [
    "## Discussion ##"
   ]
  },
  {
   "cell_type": "markdown",
   "id": "b1d99be2-4d69-457b-97e8-c7a4e692199b",
   "metadata": {},
   "source": [
    "## References ## "
   ]
  },
  {
   "cell_type": "code",
   "execution_count": null,
   "id": "2e2e0fbd-cfba-4e04-bf20-0448c435296c",
   "metadata": {},
   "outputs": [],
   "source": []
  }
 ],
 "metadata": {
  "kernelspec": {
   "display_name": "R",
   "language": "R",
   "name": "ir"
  },
  "language_info": {
   "codemirror_mode": "r",
   "file_extension": ".r",
   "mimetype": "text/x-r-source",
   "name": "R",
   "pygments_lexer": "r",
   "version": "4.3.3"
  }
 },
 "nbformat": 4,
 "nbformat_minor": 5
}
