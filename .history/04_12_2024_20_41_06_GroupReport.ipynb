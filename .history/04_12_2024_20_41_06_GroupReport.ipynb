{
 "cells": [
  {
   "cell_type": "markdown",
   "id": "8e479889-a32f-454a-91e3-26f93524a76a",
   "metadata": {},
   "source": [
    "# Modelling and Predicting Employee Attrition #"
   ]
  },
  {
   "cell_type": "code",
   "execution_count": 128,
   "id": "8e51a462-8084-4b82-b3f3-5d991d57c368",
   "metadata": {},
   "outputs": [
    {
     "name": "stderr",
     "output_type": "stream",
     "text": [
      "Updating HTML index of packages in '.Library'\n",
      "\n",
      "Making 'packages.html' ...\n",
      " done\n",
      "\n"
     ]
    }
   ],
   "source": [
    "library(tidyverse)\n",
    "library(broom)\n",
    "library(GGally)\n",
    "library(car)\n",
    "library(glmnet)\n",
    "library(caret)\n",
    "library(repr)\n",
    "library(infer)\n",
    "library(gridExtra)\n",
    "library(pROC)\n",
    "library(boot)\n",
    "install.packages(\"ROSE\")\n",
    "options(warn = -1)"
   ]
  },
  {
   "cell_type": "markdown",
   "id": "515adb7b-4c30-4bcc-9492-df8c1011923d",
   "metadata": {},
   "source": [
    "## STAT 301: Planning Stage\n",
    "\n",
    "#### Names: Justin Bourdon, Nour Abdelfattah\n",
    "\n",
    "#### Student Numbers: 13755392, 97158414"
   ]
  },
  {
   "cell_type": "markdown",
   "id": "99c3f3b7-3ecc-4112-a4be-c62e980f944f",
   "metadata": {},
   "source": [
    "## Introduction"
   ]
  },
  {
   "cell_type": "code",
   "execution_count": 166,
   "id": "ba01638c-0aa0-474c-811d-2026cda98cbc",
   "metadata": {},
   "outputs": [
    {
     "name": "stderr",
     "output_type": "stream",
     "text": [
      "\u001b[1mRows: \u001b[22m\u001b[34m1470\u001b[39m \u001b[1mColumns: \u001b[22m\u001b[34m35\u001b[39m\n",
      "\u001b[36m──\u001b[39m \u001b[1mColumn specification\u001b[22m \u001b[36m────────────────────────────────────────────────────────\u001b[39m\n",
      "\u001b[1mDelimiter:\u001b[22m \",\"\n",
      "\u001b[31mchr\u001b[39m  (9): Attrition, BusinessTravel, Department, EducationField, Gender, Job...\n",
      "\u001b[32mdbl\u001b[39m (26): Age, DailyRate, DistanceFromHome, Education, EmployeeCount, Employ...\n",
      "\n",
      "\u001b[36mℹ\u001b[39m Use `spec()` to retrieve the full column specification for this data.\n",
      "\u001b[36mℹ\u001b[39m Specify the column types or set `show_col_types = FALSE` to quiet this message.\n"
     ]
    },
    {
     "data": {
      "text/html": [
       "<table class=\"dataframe\">\n",
       "<caption>A tibble: 6 × 35</caption>\n",
       "<thead>\n",
       "\t<tr><th scope=col>Age</th><th scope=col>Attrition</th><th scope=col>BusinessTravel</th><th scope=col>DailyRate</th><th scope=col>Department</th><th scope=col>DistanceFromHome</th><th scope=col>Education</th><th scope=col>EducationField</th><th scope=col>EmployeeCount</th><th scope=col>EmployeeNumber</th><th scope=col>⋯</th><th scope=col>RelationshipSatisfaction</th><th scope=col>StandardHours</th><th scope=col>StockOptionLevel</th><th scope=col>TotalWorkingYears</th><th scope=col>TrainingTimesLastYear</th><th scope=col>WorkLifeBalance</th><th scope=col>YearsAtCompany</th><th scope=col>YearsInCurrentRole</th><th scope=col>YearsSinceLastPromotion</th><th scope=col>YearsWithCurrManager</th></tr>\n",
       "\t<tr><th scope=col>&lt;dbl&gt;</th><th scope=col>&lt;chr&gt;</th><th scope=col>&lt;chr&gt;</th><th scope=col>&lt;dbl&gt;</th><th scope=col>&lt;chr&gt;</th><th scope=col>&lt;dbl&gt;</th><th scope=col>&lt;dbl&gt;</th><th scope=col>&lt;chr&gt;</th><th scope=col>&lt;dbl&gt;</th><th scope=col>&lt;dbl&gt;</th><th scope=col>⋯</th><th scope=col>&lt;dbl&gt;</th><th scope=col>&lt;dbl&gt;</th><th scope=col>&lt;dbl&gt;</th><th scope=col>&lt;dbl&gt;</th><th scope=col>&lt;dbl&gt;</th><th scope=col>&lt;dbl&gt;</th><th scope=col>&lt;dbl&gt;</th><th scope=col>&lt;dbl&gt;</th><th scope=col>&lt;dbl&gt;</th><th scope=col>&lt;dbl&gt;</th></tr>\n",
       "</thead>\n",
       "<tbody>\n",
       "\t<tr><td>41</td><td>Yes</td><td>Travel_Rarely    </td><td>1102</td><td>Sales                 </td><td>1</td><td>2</td><td>Life Sciences</td><td>1</td><td>1</td><td>⋯</td><td>1</td><td>80</td><td>0</td><td> 8</td><td>0</td><td>1</td><td> 6</td><td>4</td><td>0</td><td>5</td></tr>\n",
       "\t<tr><td>49</td><td>No </td><td>Travel_Frequently</td><td> 279</td><td>Research &amp; Development</td><td>8</td><td>1</td><td>Life Sciences</td><td>1</td><td>2</td><td>⋯</td><td>4</td><td>80</td><td>1</td><td>10</td><td>3</td><td>3</td><td>10</td><td>7</td><td>1</td><td>7</td></tr>\n",
       "\t<tr><td>37</td><td>Yes</td><td><span style=white-space:pre-wrap>Travel_Rarely    </span></td><td>1373</td><td>Research &amp; Development</td><td>2</td><td>2</td><td><span style=white-space:pre-wrap>Other        </span></td><td>1</td><td>4</td><td>⋯</td><td>2</td><td>80</td><td>0</td><td> 7</td><td>3</td><td>3</td><td> 0</td><td>0</td><td>0</td><td>0</td></tr>\n",
       "\t<tr><td>33</td><td>No </td><td>Travel_Frequently</td><td>1392</td><td>Research &amp; Development</td><td>3</td><td>4</td><td>Life Sciences</td><td>1</td><td>5</td><td>⋯</td><td>3</td><td>80</td><td>0</td><td> 8</td><td>3</td><td>3</td><td> 8</td><td>7</td><td>3</td><td>0</td></tr>\n",
       "\t<tr><td>27</td><td>No </td><td><span style=white-space:pre-wrap>Travel_Rarely    </span></td><td> 591</td><td>Research &amp; Development</td><td>2</td><td>1</td><td><span style=white-space:pre-wrap>Medical      </span></td><td>1</td><td>7</td><td>⋯</td><td>4</td><td>80</td><td>1</td><td> 6</td><td>3</td><td>3</td><td> 2</td><td>2</td><td>2</td><td>2</td></tr>\n",
       "\t<tr><td>32</td><td>No </td><td>Travel_Frequently</td><td>1005</td><td>Research &amp; Development</td><td>2</td><td>2</td><td>Life Sciences</td><td>1</td><td>8</td><td>⋯</td><td>3</td><td>80</td><td>0</td><td> 8</td><td>2</td><td>2</td><td> 7</td><td>7</td><td>3</td><td>6</td></tr>\n",
       "</tbody>\n",
       "</table>\n"
      ],
      "text/latex": [
       "A tibble: 6 × 35\n",
       "\\begin{tabular}{lllllllllllllllllllll}\n",
       " Age & Attrition & BusinessTravel & DailyRate & Department & DistanceFromHome & Education & EducationField & EmployeeCount & EmployeeNumber & ⋯ & RelationshipSatisfaction & StandardHours & StockOptionLevel & TotalWorkingYears & TrainingTimesLastYear & WorkLifeBalance & YearsAtCompany & YearsInCurrentRole & YearsSinceLastPromotion & YearsWithCurrManager\\\\\n",
       " <dbl> & <chr> & <chr> & <dbl> & <chr> & <dbl> & <dbl> & <chr> & <dbl> & <dbl> & ⋯ & <dbl> & <dbl> & <dbl> & <dbl> & <dbl> & <dbl> & <dbl> & <dbl> & <dbl> & <dbl>\\\\\n",
       "\\hline\n",
       "\t 41 & Yes & Travel\\_Rarely     & 1102 & Sales                  & 1 & 2 & Life Sciences & 1 & 1 & ⋯ & 1 & 80 & 0 &  8 & 0 & 1 &  6 & 4 & 0 & 5\\\\\n",
       "\t 49 & No  & Travel\\_Frequently &  279 & Research \\& Development & 8 & 1 & Life Sciences & 1 & 2 & ⋯ & 4 & 80 & 1 & 10 & 3 & 3 & 10 & 7 & 1 & 7\\\\\n",
       "\t 37 & Yes & Travel\\_Rarely     & 1373 & Research \\& Development & 2 & 2 & Other         & 1 & 4 & ⋯ & 2 & 80 & 0 &  7 & 3 & 3 &  0 & 0 & 0 & 0\\\\\n",
       "\t 33 & No  & Travel\\_Frequently & 1392 & Research \\& Development & 3 & 4 & Life Sciences & 1 & 5 & ⋯ & 3 & 80 & 0 &  8 & 3 & 3 &  8 & 7 & 3 & 0\\\\\n",
       "\t 27 & No  & Travel\\_Rarely     &  591 & Research \\& Development & 2 & 1 & Medical       & 1 & 7 & ⋯ & 4 & 80 & 1 &  6 & 3 & 3 &  2 & 2 & 2 & 2\\\\\n",
       "\t 32 & No  & Travel\\_Frequently & 1005 & Research \\& Development & 2 & 2 & Life Sciences & 1 & 8 & ⋯ & 3 & 80 & 0 &  8 & 2 & 2 &  7 & 7 & 3 & 6\\\\\n",
       "\\end{tabular}\n"
      ],
      "text/markdown": [
       "\n",
       "A tibble: 6 × 35\n",
       "\n",
       "| Age &lt;dbl&gt; | Attrition &lt;chr&gt; | BusinessTravel &lt;chr&gt; | DailyRate &lt;dbl&gt; | Department &lt;chr&gt; | DistanceFromHome &lt;dbl&gt; | Education &lt;dbl&gt; | EducationField &lt;chr&gt; | EmployeeCount &lt;dbl&gt; | EmployeeNumber &lt;dbl&gt; | ⋯ ⋯ | RelationshipSatisfaction &lt;dbl&gt; | StandardHours &lt;dbl&gt; | StockOptionLevel &lt;dbl&gt; | TotalWorkingYears &lt;dbl&gt; | TrainingTimesLastYear &lt;dbl&gt; | WorkLifeBalance &lt;dbl&gt; | YearsAtCompany &lt;dbl&gt; | YearsInCurrentRole &lt;dbl&gt; | YearsSinceLastPromotion &lt;dbl&gt; | YearsWithCurrManager &lt;dbl&gt; |\n",
       "|---|---|---|---|---|---|---|---|---|---|---|---|---|---|---|---|---|---|---|---|---|\n",
       "| 41 | Yes | Travel_Rarely     | 1102 | Sales                  | 1 | 2 | Life Sciences | 1 | 1 | ⋯ | 1 | 80 | 0 |  8 | 0 | 1 |  6 | 4 | 0 | 5 |\n",
       "| 49 | No  | Travel_Frequently |  279 | Research &amp; Development | 8 | 1 | Life Sciences | 1 | 2 | ⋯ | 4 | 80 | 1 | 10 | 3 | 3 | 10 | 7 | 1 | 7 |\n",
       "| 37 | Yes | Travel_Rarely     | 1373 | Research &amp; Development | 2 | 2 | Other         | 1 | 4 | ⋯ | 2 | 80 | 0 |  7 | 3 | 3 |  0 | 0 | 0 | 0 |\n",
       "| 33 | No  | Travel_Frequently | 1392 | Research &amp; Development | 3 | 4 | Life Sciences | 1 | 5 | ⋯ | 3 | 80 | 0 |  8 | 3 | 3 |  8 | 7 | 3 | 0 |\n",
       "| 27 | No  | Travel_Rarely     |  591 | Research &amp; Development | 2 | 1 | Medical       | 1 | 7 | ⋯ | 4 | 80 | 1 |  6 | 3 | 3 |  2 | 2 | 2 | 2 |\n",
       "| 32 | No  | Travel_Frequently | 1005 | Research &amp; Development | 2 | 2 | Life Sciences | 1 | 8 | ⋯ | 3 | 80 | 0 |  8 | 2 | 2 |  7 | 7 | 3 | 6 |\n",
       "\n"
      ],
      "text/plain": [
       "  Age Attrition BusinessTravel    DailyRate Department            \n",
       "1 41  Yes       Travel_Rarely     1102      Sales                 \n",
       "2 49  No        Travel_Frequently  279      Research & Development\n",
       "3 37  Yes       Travel_Rarely     1373      Research & Development\n",
       "4 33  No        Travel_Frequently 1392      Research & Development\n",
       "5 27  No        Travel_Rarely      591      Research & Development\n",
       "6 32  No        Travel_Frequently 1005      Research & Development\n",
       "  DistanceFromHome Education EducationField EmployeeCount EmployeeNumber ⋯\n",
       "1 1                2         Life Sciences  1             1              ⋯\n",
       "2 8                1         Life Sciences  1             2              ⋯\n",
       "3 2                2         Other          1             4              ⋯\n",
       "4 3                4         Life Sciences  1             5              ⋯\n",
       "5 2                1         Medical        1             7              ⋯\n",
       "6 2                2         Life Sciences  1             8              ⋯\n",
       "  RelationshipSatisfaction StandardHours StockOptionLevel TotalWorkingYears\n",
       "1 1                        80            0                 8               \n",
       "2 4                        80            1                10               \n",
       "3 2                        80            0                 7               \n",
       "4 3                        80            0                 8               \n",
       "5 4                        80            1                 6               \n",
       "6 3                        80            0                 8               \n",
       "  TrainingTimesLastYear WorkLifeBalance YearsAtCompany YearsInCurrentRole\n",
       "1 0                     1                6             4                 \n",
       "2 3                     3               10             7                 \n",
       "3 3                     3                0             0                 \n",
       "4 3                     3                8             7                 \n",
       "5 3                     3                2             2                 \n",
       "6 2                     2                7             7                 \n",
       "  YearsSinceLastPromotion YearsWithCurrManager\n",
       "1 0                       5                   \n",
       "2 1                       7                   \n",
       "3 0                       0                   \n",
       "4 3                       0                   \n",
       "5 2                       2                   \n",
       "6 3                       6                   "
      ]
     },
     "metadata": {},
     "output_type": "display_data"
    }
   ],
   "source": [
    "# Download latest version\n",
    "path = \"HR-Employee-Attrition 2.csv\"\n",
    "\n",
    "attrition_data=read_csv(path)\n",
    "\n",
    "head(attrition_data)"
   ]
  },
  {
   "cell_type": "markdown",
   "id": "fc9815d5-136e-49b6-a6ab-9ffebc7206cc",
   "metadata": {},
   "source": [
    "## Methods and Results ## "
   ]
  },
  {
   "cell_type": "markdown",
   "id": "fe96127e-0e11-47e3-ac09-6d0e42d15a6e",
   "metadata": {},
   "source": [
    "### 1) EDA ###"
   ]
  },
  {
   "cell_type": "markdown",
   "id": "26277520-15f9-4bf2-bfdd-f3b13b0a5e0f",
   "metadata": {},
   "source": [
    "### 2) Methods: Plan ###"
   ]
  },
  {
   "cell_type": "code",
   "execution_count": 89,
   "id": "852f858f-e490-4b3e-9fc9-a972c887e4cd",
   "metadata": {},
   "outputs": [
    {
     "data": {
      "text/plain": [
       "\n",
       "   0    1 \n",
       "1233  237 "
      ]
     },
     "metadata": {},
     "output_type": "display_data"
    }
   ],
   "source": [
    "attrition_data <- attrition_data %>%\n",
    "  mutate(JobSatisfaction = as.factor(JobSatisfaction))\n",
    "\n",
    "attrition_data$Attrition <- ifelse(attrition_data$Attrition == \"Yes\", 1, 0)\n",
    "\n",
    "table(attrition_data$Attrition)"
   ]
  },
  {
   "cell_type": "code",
   "execution_count": 95,
   "id": "9c6bfb3a-4a87-4695-9b83-9e60d56c8972",
   "metadata": {},
   "outputs": [
    {
     "name": "stdout",
     "output_type": "stream",
     "text": [
      "Training Set Class Distribution:\n",
      "\n",
      "  0   1 \n",
      "867 162 \n",
      "\n",
      "Test Set Class Distribution:\n",
      "\n",
      "  0   1 \n",
      "366  75 \n",
      "\n",
      "Balanced Training Set Class Distribution:\n"
     ]
    },
    {
     "data": {
      "text/plain": [
       "\n",
       "  0   1 \n",
       "726 303 "
      ]
     },
     "metadata": {},
     "output_type": "display_data"
    }
   ],
   "source": [
    "set.seed(123)\n",
    "\n",
    "attrition_data <- attrition_data %>%\n",
    "  mutate(ID = row_number())\n",
    "\n",
    "#training set\n",
    "attrition_data_train <- \n",
    "    attrition_data %>% \n",
    "    slice_sample(prop = 0.70)\n",
    "\n",
    "#test set \n",
    "attrition_data_test <- \n",
    "    attrition_data %>% \n",
    "    anti_join(attrition_data_train, by = \"ID\")\n",
    "\n",
    "cat(\"Training Set Class Distribution:\\n\")\n",
    "print(table(attrition_data_train$Attrition))\n",
    "\n",
    "cat(\"\\nTest Set Class Distribution:\\n\")\n",
    "print(table(attrition_data_test$Attrition))\n",
    "\n",
    "#oversampling minority class in \n",
    "library(ROSE)\n",
    "balanced_data_train <- ovun.sample(\n",
    "    Attrition ~ ., \n",
    "    data = attrition_data_train, \n",
    "    method = \"both\", \n",
    "    p = 0.3 # Proportion of the minority class you (30%)\n",
    ")$data\n",
    "\n",
    "cat(\"\\nBalanced Training Set Class Distribution:\\n\")\n",
    "table(balanced_data_train$Attrition)\n",
    "\n",
    "attrition_data_train <- balanced_data_train  %>% select(-ID)\n",
    "attrition_data_test <- attrition_data_test  %>% select(-ID)"
   ]
  },
  {
   "cell_type": "code",
   "execution_count": 96,
   "id": "eb7fa591-5956-4ee7-bfcc-411937837320",
   "metadata": {},
   "outputs": [
    {
     "data": {
      "text/plain": [
       "\n",
       "  0   1 \n",
       "366  75 "
      ]
     },
     "metadata": {},
     "output_type": "display_data"
    },
    {
     "data": {
      "text/plain": [
       "\n",
       "  0   1 \n",
       "726 303 "
      ]
     },
     "metadata": {},
     "output_type": "display_data"
    }
   ],
   "source": [
    "table(attrition_data_test$Attrition)\n",
    "table(attrition_data_train$Attrition)"
   ]
  },
  {
   "cell_type": "code",
   "execution_count": 105,
   "id": "81f53dbe-5f10-4a70-84c3-1d5c9da2f612",
   "metadata": {},
   "outputs": [
    {
     "name": "stdout",
     "output_type": "stream",
     "text": [
      "[1] 0.1878404\n"
     ]
    }
   ],
   "source": [
    "#additive model \n",
    "logistic_model <- \n",
    "    glm(\n",
    "        formula = Attrition ~ MonthlyIncome + YearsAtCompany + JobSatisfaction,\n",
    "        data = attrition_data_train,\n",
    "        family = binomial)\n",
    "\n",
    "# Perform 10-fold cross-validation\n",
    "cv_results <- cv.glm(\n",
    "    data = attrition_data_train, \n",
    "    glmfit = logistic_model,\n",
    "    K = 10\n",
    ")\n",
    "\n",
    "# View cross-validated error\n",
    "print(cv_results$delta[1])  # Cross-validation errors\n"
   ]
  },
  {
   "cell_type": "code",
   "execution_count": 113,
   "id": "79259aab-08a0-4991-8f75-df68f8102258",
   "metadata": {},
   "outputs": [
    {
     "data": {
      "text/plain": [
       "Confusion Matrix and Statistics\n",
       "\n",
       "          Reference\n",
       "Prediction   0   1\n",
       "         0 345  65\n",
       "         1  21  10\n",
       "                                          \n",
       "               Accuracy : 0.805           \n",
       "                 95% CI : (0.7649, 0.8409)\n",
       "    No Information Rate : 0.8299          \n",
       "    P-Value [Acc > NIR] : 0.9255          \n",
       "                                          \n",
       "                  Kappa : 0.0991          \n",
       "                                          \n",
       " Mcnemar's Test P-Value : 3.538e-06       \n",
       "                                          \n",
       "            Sensitivity : 0.13333         \n",
       "            Specificity : 0.94262         \n",
       "         Pos Pred Value : 0.32258         \n",
       "         Neg Pred Value : 0.84146         \n",
       "             Prevalence : 0.17007         \n",
       "         Detection Rate : 0.02268         \n",
       "   Detection Prevalence : 0.07029         \n",
       "      Balanced Accuracy : 0.53798         \n",
       "                                          \n",
       "       'Positive' Class : 1               \n",
       "                                          "
      ]
     },
     "metadata": {},
     "output_type": "display_data"
    }
   ],
   "source": [
    "#predict attrition class on test set\n",
    "pred_classes <- \n",
    "  round(predict(logistic_model, newdata = attrition_data_test, type = \"response\"),0)\n",
    "\n",
    "#illustarte results in confusion matrix\n",
    "attrition_data_confusion_matrix <- \n",
    "    confusionMatrix(\n",
    "    data = as.factor(pred_classes),\n",
    "    reference = as.factor(attrition_data_test$Attrition),\n",
    "    positive = '1'\n",
    ")\n",
    "\n",
    "\n",
    "attrition_data_confusion_matrix"
   ]
  },
  {
   "cell_type": "markdown",
   "id": "4d842bff-451c-4505-8ab4-967fa8f3ae2c",
   "metadata": {},
   "source": [
    "## Discussion ##"
   ]
  },
  {
   "cell_type": "markdown",
   "id": "b1d99be2-4d69-457b-97e8-c7a4e692199b",
   "metadata": {},
   "source": [
    "## References ## "
   ]
  },
  {
   "cell_type": "code",
   "execution_count": null,
   "id": "2e2e0fbd-cfba-4e04-bf20-0448c435296c",
   "metadata": {},
   "outputs": [],
   "source": []
  }
 ],
 "metadata": {
  "kernelspec": {
   "display_name": "R",
   "language": "R",
   "name": "ir"
  },
  "language_info": {
   "codemirror_mode": "r",
   "file_extension": ".r",
   "mimetype": "text/x-r-source",
   "name": "R",
   "pygments_lexer": "r",
   "version": "4.3.3"
  }
 },
 "nbformat": 4,
 "nbformat_minor": 5
}
